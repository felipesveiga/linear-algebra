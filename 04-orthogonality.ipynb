{
 "cells": [
  {
   "cell_type": "markdown",
   "id": "ca8d7f67-117f-421c-8486-92a45dd17236",
   "metadata": {},
   "source": [
    "<h1 style='font-size:40px'> Orthogonality</h1>"
   ]
  },
  {
   "cell_type": "code",
   "execution_count": 16,
   "id": "8050c98a-29ac-4c65-8f7e-0bf1cb4a4675",
   "metadata": {
    "editable": true,
    "slideshow": {
     "slide_type": ""
    },
    "tags": []
   },
   "outputs": [
    {
     "name": "stdout",
     "output_type": "stream",
     "text": [
      "[master 23aa690] Iniciar cap. 4\n",
      " 1 file changed, 13 insertions(+), 14 deletions(-)\n",
      "Enumerating objects: 5, done.\n",
      "Counting objects: 100% (5/5), done.\n",
      "Delta compression using up to 24 threads\n",
      "Compressing objects: 100% (3/3), done.\n",
      "Writing objects: 100% (3/3), 459 bytes | 459.00 KiB/s, done.\n",
      "Total 3 (delta 2), reused 0 (delta 0), pack-reused 0\n"
     ]
    },
    {
     "name": "stderr",
     "output_type": "stream",
     "text": [
      "failed to send, dropping 1 traces to intake at http://localhost:8126/v0.5/traces after 3 retries\n"
     ]
    },
    {
     "name": "stdout",
     "output_type": "stream",
     "text": [
      "remote: Resolving deltas: 100% (2/2), completed with 2 local objects.\u001b[K\n",
      "To https://github.com/felipesveiga/linear-algebra.git\n",
      "   58459e7..23aa690  master -> master\n"
     ]
    }
   ],
   "source": [
    "! git add .\n",
    "! git commit -am '\"DEFINITION Two subspaces V and W of a vector space are orthogonal\"' \n",
    "! git push"
   ]
  },
  {
   "cell_type": "markdown",
   "id": "3f77e099-f352-460f-82fb-fcb2adebd6c0",
   "metadata": {},
   "source": [
    "<p style='color:red'> Iniciei cap. 4; Continuar de \"DEFINITION Two subspaces V and W of a vector space are orthogonal\"</p>"
   ]
  }
 ],
 "metadata": {
  "kernelspec": {
   "display_name": "Python 3 (ipykernel)",
   "language": "python",
   "name": "python3"
  },
  "language_info": {
   "codemirror_mode": {
    "name": "ipython",
    "version": 3
   },
   "file_extension": ".py",
   "mimetype": "text/x-python",
   "name": "python",
   "nbconvert_exporter": "python",
   "pygments_lexer": "ipython3",
   "version": "3.10.12"
  }
 },
 "nbformat": 4,
 "nbformat_minor": 5
}

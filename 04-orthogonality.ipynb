{
 "cells": [
  {
   "cell_type": "markdown",
   "id": "ca8d7f67-117f-421c-8486-92a45dd17236",
   "metadata": {},
   "source": [
    "<h1 style='font-size:40px'> Orthogonality</h1>\n",
    "<div> \n",
    "    <ul style='font-size:20px'> \n",
    "        <li> \n",
    "            Esse capítulo é dedicado ao estudo da ortogonalidade entre espaços. \n",
    "        </li>\n",
    "        <li>\n",
    "            Entendemos dois espaços $V$ e $W$ como ortogonais, caso o dot-product entre cada um de seus vetores se resultar em 0 (seguindo a Lei do Cosseno).\n",
    "        </li>\n",
    "    </ul>\n",
    "</div>"
   ]
  },
  {
   "cell_type": "markdown",
   "id": "01e21b2c-2e33-481f-8801-0b5119a936f8",
   "metadata": {},
   "source": [
    " <center style='margin-top:20px;font-size:20px'> \n",
    "        <figure>\n",
    "            $v^{T}\\cdot{w}=0, \\forall{v\\in{V}}, \\forall{w\\in{W}}\\iff{V\\perp{W}}$\n",
    "            <figcaption style='font-size:15px'> Definição formal da ortogonalidade entre espaços</figcaption>\n",
    "        </figure>\n",
    "    </center>"
   ]
  },
  {
   "cell_type": "markdown",
   "id": "fa0ef06f-1fc3-47c1-9177-0262a199021c",
   "metadata": {},
   "source": [
    "<h2 style='font-size:30px'> 4.1 Orthogonality of the Four Subspaces</h2>\n",
    "<div> \n",
    "    <ul style='font-size:20px'> \n",
    "        <li>  \n",
    "            Nessa seção, aplicamos o conceito da ortogonalidade no estudo dos 4 sub-espaços fundamentais da Álgebra Linear. \n",
    "        </li>\n",
    "    </ul>\n",
    "</div>"
   ]
  },
  {
   "cell_type": "markdown",
   "id": "5dabc44b-ec71-4162-8c7e-85af7bcaea49",
   "metadata": {},
   "source": [
    "<h4 style='font-size:30px;font-style:italic;text-decoration:underline'> Nullspace and Row Space</h4>\n",
    "<div> \n",
    "    <ul style='font-size:20px'> \n",
    "        <li>\n",
    "            Todo o Nullspace e Row Space de uma matriz $A$ serão ortogonais, em consonância com suas próprias definições.\n",
    "        </li>\n",
    "        <li>\n",
    "            Como todo produto linear entre cada vetor-linha de $A$ e vetor-coluna $x\\in{N(A)}$ resultará em 0, podemos dizer que:\n",
    "        </li>\n",
    "    </ul>\n",
    "</div>"
   ]
  },
  {
   "cell_type": "markdown",
   "id": "5425ffea-20bc-4b87-815d-cc08f3792403",
   "metadata": {},
   "source": [
    " <center style='margin-top:20px;font-size:20px'> \n",
    "        <figure>\n",
    "            $N(A)\\perp{C(A^{T})}$\n",
    "            <figcaption style='font-size:15px'> \n",
    "            </figcaption>\n",
    "        </figure>\n",
    "    </center>"
   ]
  },
  {
   "cell_type": "code",
   "execution_count": 1,
   "id": "8050c98a-29ac-4c65-8f7e-0bf1cb4a4675",
   "metadata": {
    "editable": true,
    "slideshow": {
     "slide_type": ""
    },
    "tags": []
   },
   "outputs": [
    {
     "name": "stdout",
     "output_type": "stream",
     "text": [
      "[master e4c18e1] \"DEFINITION Two subspaces V and W of a vector space are orthogonal\"\n",
      " 2 files changed, 90 insertions(+), 57 deletions(-)\n",
      " create mode 100644 04-orthogonality.ipynb\n"
     ]
    },
    {
     "name": "stderr",
     "output_type": "stream",
     "text": [
      "failed to send, dropping 1 traces to intake at http://localhost:8126/v0.5/traces after 3 retries\n"
     ]
    },
    {
     "name": "stdout",
     "output_type": "stream",
     "text": [
      "Enumerating objects: 6, done.\n",
      "Counting objects: 100% (6/6), done.\n",
      "Delta compression using up to 24 threads\n",
      "Compressing objects: 100% (4/4), done.\n",
      "Writing objects: 100% (4/4), 1.36 KiB | 1.36 MiB/s, done.\n",
      "Total 4 (delta 2), reused 0 (delta 0), pack-reused 0\n",
      "remote: Resolving deltas: 100% (2/2), completed with 2 local objects.\u001b[K\n",
      "To https://github.com/felipesveiga/linear-algebra.git\n",
      "   23aa690..e4c18e1  master -> master\n"
     ]
    }
   ],
   "source": [
    "! git add .\n",
    "! git commit -am 'Continuar de \"Every vector x in the nullspace is perpendicular\"' \n",
    "! git push"
   ]
  },
  {
   "cell_type": "markdown",
   "id": "3f77e099-f352-460f-82fb-fcb2adebd6c0",
   "metadata": {},
   "source": [
    "<p style='color:red'> Defini ortogonalidade entre Nullspaces e Row Spaces ; Continuar de \"Every vector x in the nullspace is perpendicular\"</p>"
   ]
  }
 ],
 "metadata": {
  "kernelspec": {
   "display_name": "Python 3 (ipykernel)",
   "language": "python",
   "name": "python3"
  },
  "language_info": {
   "codemirror_mode": {
    "name": "ipython",
    "version": 3
   },
   "file_extension": ".py",
   "mimetype": "text/x-python",
   "name": "python",
   "nbconvert_exporter": "python",
   "pygments_lexer": "ipython3",
   "version": "3.10.12"
  }
 },
 "nbformat": 4,
 "nbformat_minor": 5
}

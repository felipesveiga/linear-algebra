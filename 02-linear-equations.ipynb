{
 "cells": [
  {
   "cell_type": "markdown",
   "id": "2032f00c-033c-46b7-8bcb-9e2565fb8114",
   "metadata": {},
   "source": [
    "## <h1 style='font-size:40px'> Solving Linear Equations </h1>"
   ]
  },
  {
   "cell_type": "markdown",
   "id": "7fb11c88-1558-4668-94f3-8f4eca1a411e",
   "metadata": {
    "jp-MarkdownHeadingCollapsed": true
   },
   "source": [
    "<h2 style='font-size:30px'> 2.1\n",
    "Vectors and Linear Equations</h2>\n",
    "<div> \n",
    "    <ul style='font-size:20px'> \n",
    "        <li> \n",
    "            O problema central da Álgebra Linear é a solução de sistemas de equações, sendo estas, muitas vezes, lineares. Por \"linear\", entenda, que as variáveis são somente multiplicadas por coeficientes.\n",
    "        </li>\n",
    "        <li>\n",
    "            Sistemas de Equações buscam, nada mais, do que o ponto no plano em que as equações de todas as linhas intercedem.\n",
    "        </li>\n",
    "    </ul>\n",
    "</div>"
   ]
  },
  {
   "cell_type": "markdown",
   "id": "e30efed7-537a-42f0-8517-ac3fa61ce7c9",
   "metadata": {},
   "source": [
    "<h4 style='font-size:30px;font-style:italic;text-decoration:underline'> Exemplo</h4>\n",
    "<div> \n",
    "    <ul style='font-size:20px'> \n",
    "        <li> \n",
    "            Um sistema de equações pode ser representado de diferentes maneiras. Vamos usar um exemplo simples para ilustrarmos isso.\n",
    "        </li>\n",
    "    </ul>\n",
    "</div>"
   ]
  },
  {
   "cell_type": "markdown",
   "id": "70c56796-dbe7-4b8d-ba6b-391e887e4853",
   "metadata": {},
   "source": [
    "<center style='font-size:20px'> \n",
    "    $$\\begin{cases}\n",
    "        x-2y=1\\\\\n",
    "        3x+2y=11\n",
    "    \\end{cases}\n",
    "    $$\n",
    "</center>"
   ]
  },
  {
   "cell_type": "markdown",
   "id": "ff6e0c23-d51d-4986-b95a-ac12e431d487",
   "metadata": {},
   "source": [
    " <center style='font-size:20px;margin-top:20px'> \n",
    "        <figure>\n",
    "            $$x \\begin{bmatrix}1\\\\3\\end{bmatrix}+y\\begin{bmatrix}-2\\\\2\\end{bmatrix}=\\begin{bmatrix}1\\\\11\\end{bmatrix}$$\n",
    "            <figcaption style='font-size:15px'> Note que podemos representar o sistema de equações como uma combinação linear, também! </figcaption>\n",
    "        </figure>\n",
    "    </center>"
   ]
  },
  {
   "cell_type": "markdown",
   "id": "8dc01913-99bc-44f9-bc07-ca04e1b01e41",
   "metadata": {},
   "source": [
    " <center style='font-size:20px;margin-top:20px'> \n",
    "        <figure>\n",
    "            $$\\begin{bmatrix}1 & -2\\\\ 3  & 2\\end{bmatrix} \\begin{bmatrix}x\\\\y\\end{bmatrix}=\\begin{bmatrix}1\\\\11\\end{bmatrix}$$\n",
    "            <figcaption style='font-size:15px'> O sistema ainda pode ser escrito como uma multiplicação de uma matriz com um vetor.</figcaption>\n",
    "        </figure>\n",
    "    </center>"
   ]
  },
  {
   "cell_type": "markdown",
   "id": "b8ed92b2-88b7-4f54-841d-305714ac45dd",
   "metadata": {},
   "source": [
    " <center style='margin-top:20px'> \n",
    "        <figure>\n",
    "            <img src='img/01_system_plane.png'>\n",
    "            <figcaption> Observe que a solução do sistema $(3,1)$ é justamente a interseção das retas.</figcaption>\n",
    "        </figure>\n",
    "    </center>"
   ]
  },
  {
   "cell_type": "markdown",
   "id": "1bc44b50-d52b-4a0e-8317-9d68c93c56a0",
   "metadata": {},
   "source": [
    "<h3 style='font-size:30px;font-style:italic'> Three Equations in Three Unknowns</h3>\n",
    "<div> \n",
    "    <ul style='font-size:20px'>\n",
    "        <li> \n",
    "            No momento, vamos tentar solucionar sistemas em que a quantidade de equações é a mesma de variáveis. Nesse tipo de problema, costuma-se haver uma única solução.\n",
    "        </li>\n",
    "     </ul>\n",
    "</div>"
   ]
  },
  {
   "cell_type": "markdown",
   "id": "f75f86c6-f8fc-4884-b32a-9f4689b9fedc",
   "metadata": {},
   "source": [
    "<h3 style='font-size:30px;font-style:italic'>The Matrix Form of the Equations</h3>\n",
    "<div> \n",
    "    <ul style='font-size:20px'>\n",
    "        <li> \n",
    "            Aqui é ensinado como devemos efetuar a multiplicação entre uma matriz $A$ com um vetor $x$. Deveremos efetuar um dot product entre cada vetor-linha de $A$ com $x$, dando origem a um dos componentes de $b$.\n",
    "        </li>\n",
    "     </ul>\n",
    "</div>"
   ]
  },
  {
   "cell_type": "markdown",
   "id": "01b2fd9c-f0e9-4325-a14e-95dfdd84e1a4",
   "metadata": {},
   "source": [
    " <center style='font-size:20px;margin-top:20px'> \n",
    "        <figure>\n",
    "            $$Ax=\\begin{bmatrix}\\text{row 1}\\cdot{x} \\\\\n",
    "                  \\text{row 2}\\cdot{x} \\\\\n",
    "                  \\text{row 3}\\cdot{x}\n",
    "            \\end{bmatrix}=b$$\n",
    "            <figcaption style='font-size:15px'> Ilustração da multiplicação entre $A$ e $x$.</figcaption>\n",
    "        </figure>\n",
    "    </center>"
   ]
  },
  {
   "cell_type": "markdown",
   "id": "816db2d8-2d00-4109-b578-a08fe0b40a48",
   "metadata": {},
   "source": [
    "<h4 style='font-size:30px;font-style:italic;text-decoration:underline'> Matriz Identidade</h4>\n",
    "<div> \n",
    "    <ul style='font-size:20px'> \n",
    "        <li> \n",
    "            A matriz identidade é uma espécie de matriz quadrada cuja diagonal principal é constituída de 1's, enquanto que todos os demais componentes são 0's. \n",
    "        </li>\n",
    "        <li>\n",
    "            Quando a multiplicamos com um vetor, o resultado da operação será o próprio vetor.\n",
    "        </li>\n",
    "    </ul>\n",
    "</div>"
   ]
  },
  {
   "cell_type": "code",
   "execution_count": 12,
   "id": "5235bf87-5fdf-4133-ba71-c8a9247a1ec8",
   "metadata": {},
   "outputs": [
    {
     "name": "stdout",
     "output_type": "stream",
     "text": [
      "Identity:\n",
      " [[1. 0. 0. 0.]\n",
      " [0. 1. 0. 0.]\n",
      " [0. 0. 1. 0.]\n",
      " [0. 0. 0. 1.]] \n",
      "\n",
      "x:\n",
      " [1. 2. 3. 4.]\n"
     ]
    }
   ],
   "source": [
    "# Realizando um breve exemplo com um vetor de 4 componentes.\n",
    "import numpy as np\n",
    "\n",
    "I = np.identity(4)\n",
    "x = np.linspace(1, 4, 4)\n",
    "\n",
    "print('Identity:\\n', I, '\\n\\nx:\\n', x)"
   ]
  },
  {
   "cell_type": "code",
   "execution_count": 13,
   "id": "f25fa407-f665-4993-9d86-47fac855fae4",
   "metadata": {},
   "outputs": [
    {
     "data": {
      "text/plain": [
       "array([1., 2., 3., 4.])"
      ]
     },
     "execution_count": 13,
     "metadata": {},
     "output_type": "execute_result"
    }
   ],
   "source": [
    "# Observe que o produto da multiplicação é o próprio x.\n",
    "np.matmul(I,x)"
   ]
  },
  {
   "cell_type": "markdown",
   "id": "4ef935b7-e4e3-456f-ae8b-e67c2d161f37",
   "metadata": {},
   "source": [
    "<h3 style='font-size:30px;font-style:italic'> Matrix Notation</h3>\n",
    "<div> \n",
    "    <ul style='font-size:20px'>\n",
    "        <li> \n",
    "            Um componente específico de uma matriz $A$ pode ser identificado como $a_{ij}$, ou $A(i,j)$. $i$ se refere à numeração da linha, enquanto que $j$ da coluna em que o dado número se encontra.\n",
    "        </li>\n",
    "     </ul>\n",
    "</div>"
   ]
  },
  {
   "cell_type": "markdown",
   "id": "c923f5cb-50ef-4188-ade3-35a13a7c8a61",
   "metadata": {},
   "source": [
    "<h3 style='font-size:30px;font-style:italic'> Formas de se Enxergar Sistemas Lineares</h3>\n",
    "<div> \n",
    "    <ul style='font-size:20px'>\n",
    "        <li> \n",
    "            No decorrer do livro, usaremos duas formas de se interpretar um sistema de equações lineares de maneira visual.\n",
    "        </li>\n",
    "        <li>\n",
    "            A primeira, <i> row picture</i>, busca expressar no plano as retas representadas por cada vetor linha da matriz de coeficientes $A$. A existência de um ponto de encontro entre elas sinaliza que o sistema tem solução.\n",
    "        </li>\n",
    "        <li>\n",
    "            Já a segunda, <i> column picture</i>, projeta no espaço os vetores coluna de $A$. Nessa representação, podemos verificar se alguma combinação linear entre eles resultará em $b$.\n",
    "        </li>\n",
    "     </ul>\n",
    "</div>"
   ]
  },
  {
   "cell_type": "markdown",
   "id": "064c7710-613e-4c17-abb3-4ac6983c5715",
   "metadata": {
    "tags": []
   },
   "source": [
    "<h4 style='font-size:30px;font-style:italic;text-decoration:underline'> Exemplo</h4>\n",
    "<div> \n",
    "    <ul style='font-size:20px'>\n",
    "        <li> \n",
    "            Vamos exemplificar essas representações com o sistema abaixo:\n",
    "        </li>\n",
    "     </ul>\n",
    "</div>"
   ]
  },
  {
   "cell_type": "markdown",
   "id": "296f40ab-0166-47c7-9f44-297b0a4ed9f0",
   "metadata": {},
   "source": [
    "<center style='font-size:20px;margin-top:20px'> \n",
    "                 $$\n",
    "                \\begin{bmatrix} \n",
    "                3 & 2 \\\\\n",
    "                1 & -2\n",
    "                \\end{bmatrix}\n",
    "                \\begin{bmatrix} \n",
    "                x \\\\\n",
    "                y\n",
    "                \\end{bmatrix} \n",
    "                =\n",
    "                \\begin{bmatrix} \n",
    "                11 \\\\\n",
    "                1\n",
    "                \\end{bmatrix} \n",
    "                $$\n",
    "</center>"
   ]
  },
  {
   "cell_type": "code",
   "execution_count": 24,
   "id": "26708949-988c-4847-ae4c-bea031bd515a",
   "metadata": {},
   "outputs": [],
   "source": [
    "# Representando A e b no numpy.\n",
    "import numpy as np\n",
    "import matplotlib.pyplot as plt\n",
    "A = np.array([[3,2], [1,-2]])\n",
    "b = np.array([11,1])"
   ]
  },
  {
   "cell_type": "code",
   "execution_count": 68,
   "id": "55755f56-f34a-437d-aeab-0a4d9d5beb3e",
   "metadata": {},
   "outputs": [
    {
     "data": {
      "image/png": "[encoded data removed]",
      "text/plain": [
       "<Figure size 640x480 with 1 Axes>"
      ]
     },
     "metadata": {},
     "output_type": "display_data"
    }
   ],
   "source": [
    "# ROW PICTURE\n",
    "# Ao traçarmos as retas de ambas as equações, repare que ocorre um ponto de encontro entre elas.\n",
    "\n",
    "n = 10\n",
    "x = np.linspace(-5, 5, 101)\n",
    "y = []\n",
    "\n",
    "for j in range(A.shape[1]):\n",
    "    y.append((b[j]-A[j, 0]*x)/A[j,1])\n",
    "    plt.plot(x, y[j])\n",
    "    plt.text(x[n], y[j][n], fr'${A[j][0]}x+({A[j][1]}y)={b[j]}$')"
   ]
  },
  {
   "cell_type": "code",
   "execution_count": 46,
   "id": "d19da87e-8267-4c4d-88b4-36fbaca13d35",
   "metadata": {},
   "outputs": [
    {
     "data": {
      "text/plain": [
       "Text(11, 1, '$(11,1)$')"
      ]
     },
     "execution_count": 46,
     "metadata": {},
     "output_type": "execute_result"
    },
    {
     "data": {
      "image/png": "[encoded data removed]",
      "text/plain": [
       "<Figure size 640x480 with 1 Axes>"
      ]
     },
     "metadata": {},
     "output_type": "display_data"
    }
   ],
   "source": [
    "# COLUMN PICTURE\n",
    "# Observe que podemos originar `b` a partir de uma combinação linear entre os vetores coluna\n",
    "# de A.\n",
    "origin = np.zeros((2,2))\n",
    "n = 5\n",
    "\n",
    "plt.quiver(*origin, A[:, 0], A[:, 1], angles='xy', units='xy', scale_units='xy', scale=1, color=['r', 'g'])\n",
    "plt.quiver(*origin, b[0], b[1], angles='xy', units='xy', scale_units='xy', scale=1, color=['b'])\n",
    "plt.xlim(-n,n*3)\n",
    "plt.ylim(-n,n)\\\n",
    "\n",
    "plt.text(*A[0], f'$({\",\".join(A[0].astype(str).tolist())})$')\n",
    "plt.text(*A[1], f'$({\",\".join(A[1].astype(str).tolist())})$')\n",
    "plt.text(*b, f'$({\",\".join(b.astype(str).tolist())})$')"
   ]
  },
  {
   "cell_type": "markdown",
   "id": "a06daa6d-dc13-404c-8cfe-434ade970982",
   "metadata": {},
   "source": [
    "<h3 style='font-size:30px;font-style:italic'> Comprovando a Viabilidade de um Sistema de Equações</h3>\n",
    "<div> \n",
    "    <ul style='font-size:20px'>\n",
    "        <li> \n",
    "            Um sistema de equações que tenha solução possui algum vetor $y$ que, quando multiplicado por cada vetor-coluna de $A$ gera o vetor $0$. Da mesma forma, o produto escalar com $b$ deve se resultar em $0$, também.\n",
    "        </li>\n",
    "        <li>\n",
    "            Vamos descobrir a viabilidade de uma solução para o sistema abaixo.\n",
    "        </li>\n",
    "     </ul>\n",
    "</div>"
   ]
  },
  {
   "cell_type": "markdown",
   "id": "980be1cf-f659-4e3a-8840-5b4752f28200",
   "metadata": {},
   "source": [
    "<center style='font-size:20px;margin-top:20px'> \n",
    "                 $$\n",
    "                \\begin{bmatrix} \n",
    "                1 & 3 & 5 \\\\\n",
    "                1 & 2 & -3 \\\\\n",
    "                2 & 5 & 2\n",
    "                \\end{bmatrix}\n",
    "                \\begin{bmatrix} \n",
    "                x \\\\\n",
    "                y \\\\\n",
    "                z\n",
    "                \\end{bmatrix} \n",
    "                =\n",
    "                \\begin{bmatrix} \n",
    "                4 \\\\\n",
    "                5 \\\\\n",
    "                8\n",
    "                \\end{bmatrix} \n",
    "                $$\n",
    "</center>"
   ]
  },
  {
   "cell_type": "code",
   "execution_count": 1,
   "id": "d4a6a934-c69e-4753-bfd8-a73825869481",
   "metadata": {},
   "outputs": [],
   "source": [
    "import numpy as np\n",
    "A = np.array([[1,3,5], [1,2,-3], [2,5,2]])\n",
    "b = np.array([4,5,8])"
   ]
  },
  {
   "cell_type": "code",
   "execution_count": 4,
   "id": "efdc425b-54fb-4fc6-b1bf-c8bb9a34645a",
   "metadata": {},
   "outputs": [
    {
     "data": {
      "text/plain": [
       "(array([0, 0, 0]), 1)"
      ]
     },
     "execution_count": 4,
     "metadata": {},
     "output_type": "execute_result"
    }
   ],
   "source": [
    "# Observe que, multiplicando cada vetor-coluna de A com (1,1,-1), ficamos com (0,0,0).\n",
    "# Já o produto escalar desse vetor com b resulta em 1. Portanto, podemos dizer que esse\n",
    "# sistema não tem solução.\n",
    "\n",
    "y = np.array([1,1,-1])\n",
    "np.matmul(A.T,y), np.dot(y,b)"
   ]
  },
  {
   "cell_type": "markdown",
   "id": "1a969d66-d92d-4361-83c0-d5ec22925c81",
   "metadata": {
    "jp-MarkdownHeadingCollapsed": true
   },
   "source": [
    "<h2 style='font-size:30px'> 2.2\n",
    "The Idea of Elimination</h2>\n",
    "<div> \n",
    "    <ul style='font-size:20px'> \n",
    "        <li> \n",
    "            Em sistemas em que a quantidade de equações e variáveis é igual, podemos resolvê-los pelo método de eliminação.\n",
    "        </li>\n",
    "        <li>\n",
    "                A ideia é transformarmos cada equação, de modo que o sistema passe a ter a forma de um <i> triângulo retângulo</i>. A última equação deve apresentar apenas uma variável, a de cima duas, e assim por diante.\n",
    "        </li>\n",
    "    </ul>\n",
    "</div>"
   ]
  },
  {
   "cell_type": "markdown",
   "id": "2b1bbfaa-4646-4282-9a90-86499a55abf8",
   "metadata": {},
   "source": [
    "<figure>\n",
    "        <center style='margin-top:20px'>\n",
    "            <img src='img/02_triangle.png'>\n",
    "                <figcaption> Exemplo da aplicação da Eliminação.</figcaption>\n",
    "        </center>\n",
    "    </figure>"
   ]
  },
  {
   "cell_type": "markdown",
   "id": "4cd5170d-cab9-47bc-af9a-f5c4ea759414",
   "metadata": {},
   "source": [
    "<h3 style='font-size:30px;font-style:italic'> Algoritmo de Eliminação</h3>\n",
    "<div> \n",
    "    <ul style='font-size:20px'>\n",
    "        <li> \n",
    "            Devemos eliminar as variáveis da esquerda para a direita. Vamos identificar $i$ como índice de linhas. Note que a matriz de coeficientes é quadrada.\n",
    "            $$\\begin{bmatrix} \n",
    "                a_{11} & a_{12} & a_{13} \\\\ \n",
    "                a_{21} & a_{22} & a_{23} \\\\\n",
    "                a_{31} & a_{32} & a_{33}\n",
    "            \\end{bmatrix} \\begin{bmatrix} x\\\\y\\\\z \\end{bmatrix}=\\begin{bmatrix} b_1\\\\ b_2\\\\b_3 \\end{bmatrix}$$\n",
    "        </li>\n",
    "        <li>\n",
    "            Como primeiro passo, devemos eliminar a primeira variável de todas as equações, fora a primeira. Para isso, subtraímos a equação de i-ésima linha por $\\frac{a_{i1}}{a_{11}}\\times{\\text{equation}_1}$. Observe que todas elas ficarão $0x$.\n",
    "        </li>\n",
    "        <li>\n",
    "            Em seguida, eliminamos a segunda variável usando a equação da segunda linha. Agora, subtraímos cada equação $i$ das linhas debaixo por $\\frac{a_{i2}}{a_{22}}\\times{\\text{equation}_2}$.\n",
    "        </li>\n",
    "        <li>\n",
    "            A matriz produto da eliminação é reconhecida como $U$.\n",
    "        </li>\n",
    "     </ul>\n",
    "</div>"
   ]
  },
  {
   "cell_type": "markdown",
   "id": "dd29f49e-8294-4bd2-ae86-2aa80aef12fc",
   "metadata": {
    "tags": []
   },
   "source": [
    "<h4 style='font-size:30px;font-style:italic;text-decoration:underline'> Fórmula Geral da Eliminação</h4>\n",
    "<div> \n",
    "    <ul style='font-size:20px'>\n",
    "        <li> \n",
    "            A Eliminação da i-ésima variável da j-ésima equação do sistema pode ser escrita da seguinte maneira:\n",
    "            <center style='font-size:20px;margin-top:20px'>\n",
    "            $\\text{equation}_j=\\frac{a_{ji}}{a_{ii}}\\times{\\text{equation}_i}, \\forall j=i+1\\dotsc N$\n",
    "            </center>\n",
    "        </li>\n",
    "        <li style='margin-top:20px'>\n",
    "            Considere como $N$ a quantidade de equações do sistema. Chamamos $a_{ii}$ de <i> pivot</i>, enquanto $\\frac{a_{ji}}{a_{ii}}$ de <i> multiplier</i> ($l_{ij}$).\n",
    "        </li>\n",
    "     </ul>\n",
    "</div>"
   ]
  },
  {
   "cell_type": "markdown",
   "id": "ada5948f-d13d-4999-8df6-3725be4e8c2b",
   "metadata": {},
   "source": [
    "<h3 style='font-size:30px;font-style:italic'> Breakdown of Elimination</h3>\n",
    "<div> \n",
    "    <ul style='font-size:20px'>\n",
    "        <li> \n",
    "            Os sistemas de equações podem falhar em três situações específicas. Nós as analisaremos com mais detalhe a seguir:\n",
    "        </li>\n",
    "     </ul>\n",
    "</div>"
   ]
  },
  {
   "cell_type": "markdown",
   "id": "8083c5b3-3e2b-4a58-a5c2-1bea62eb9f74",
   "metadata": {
    "tags": []
   },
   "source": [
    "<h4 style='font-size:30px;font-style:italic;text-decoration:underline'> Ausência de Solução</h4>\n",
    "<div> \n",
    "    <ul style='font-size:20px'>\n",
    "        <li> \n",
    "            O sistema tem ausência de solução quando não há um ponto de intersecção entre as linhas.\n",
    "        </li>\n",
    "        <li>\n",
    "            Descobrimos isso quando o processo de eliminação leva a um <i>pivot</i> 0 igual a um número $\\neq{0}$.\n",
    "        </li>\n",
    "     </ul>\n",
    "</div>"
   ]
  },
  {
   "cell_type": "markdown",
   "id": "a3fe6596-f66e-47ef-b140-fc822fcf6149",
   "metadata": {},
   "source": [
    "<figure>\n",
    "        <center style='margin-top:20px'>\n",
    "            <img src='img/02_no_solution.png'>\n",
    "                <figcaption> Exemplo de um sistema sem solução.</figcaption>\n",
    "        </center>\n",
    "    </figure>"
   ]
  },
  {
   "cell_type": "markdown",
   "id": "c1f35f60-526a-4429-8947-2c202cd1f682",
   "metadata": {},
   "source": [
    "<figure>\n",
    "        <center style='margin-top:20px'>\n",
    "            <img src='img/02_no_solution_2.png'>\n",
    "                <figcaption> Observe que as retas desse sistema nunca se cruzam, e a combinação linear dos vetores-coluna de coeficientes nunca produzirá $b$.</figcaption>\n",
    "        </center>\n",
    "    </figure>"
   ]
  },
  {
   "cell_type": "markdown",
   "id": "ce5baffa-379a-4656-a816-4ea4491ad8f7",
   "metadata": {
    "tags": []
   },
   "source": [
    "<h4 style='font-size:30px;font-style:italic;text-decoration:underline'> Infinitas Soluções</h4>\n",
    "<div> \n",
    "    <ul style='font-size:20px'>\n",
    "        <li> \n",
    "            Obtemos infinitas soluções, quando todas as equações do sistema são iguais. Nessa situação, a solução seriam todos os pontos atravessados pela reta.\n",
    "        </li>\n",
    "        <li>\n",
    "            Descobrimos essa situação, quando o processo de eliminação nos leva a um <i>pivot</i> 0 igual a 0.\n",
    "        </li>\n",
    "     </ul>\n",
    "</div>"
   ]
  },
  {
   "cell_type": "markdown",
   "id": "83a12f5d-a665-4341-ae4d-16c76ab30ebd",
   "metadata": {},
   "source": [
    "<figure>\n",
    "        <center style='margin-top:20px'>\n",
    "            <img src='img/02_infinite_solutions.png'>\n",
    "                <figcaption> Exemplo de um sistema com infinitas soluções.</figcaption>\n",
    "        </center>\n",
    "    </figure>"
   ]
  },
  {
   "cell_type": "markdown",
   "id": "f95d82b2-22a5-4fd6-84fb-2437046fdab9",
   "metadata": {},
   "source": [
    "<figure>\n",
    "        <center style='margin-top:20px'>\n",
    "            <img src='img/02_infinite_solutions_2.png'>\n",
    "                <figcaption> Observe como as equações do sistema, na verdade, são a mesma reta. Isso nos leva a ter infinitas combinações lineares dos vetores-coluna como solução.</figcaption>\n",
    "        </center>\n",
    "    </figure>"
   ]
  },
  {
   "cell_type": "markdown",
   "id": "a55a4cdc-9d88-4b51-be82-905ccf2d4d10",
   "metadata": {
    "tags": []
   },
   "source": [
    "<h4 style='font-size:30px;font-style:italic;text-decoration:underline'> Linhas na Ordem Inapropriada (Breakdown Temporário)</h4>\n",
    "<div> \n",
    "    <ul style='font-size:20px'>\n",
    "        <li> \n",
    "            Idealmente, desejamos eliminar as variáveis da esquerda para a direita, de modo a criarmos um triângulo retângulo de ponta cabeça.\n",
    "        </li>\n",
    "        <li>\n",
    "            No entanto, é possível que recebamos um sistema com as variáveis da esquerda já zeradas nas equações de cima. Nessa situação, o reordenamento delas será o suficiente para a solução do problema.\n",
    "        </li>\n",
    "     </ul>\n",
    "</div>"
   ]
  },
  {
   "cell_type": "markdown",
   "id": "6f80907b-16ec-4bdd-b228-a1abce04e54c",
   "metadata": {},
   "source": [
    "<figure>\n",
    "        <center style='margin-top:20px'>\n",
    "            <img src='img/02_ordering.png'>\n",
    "                <figcaption> Reordenamento das Equações.</figcaption>\n",
    "        </center>\n",
    "    </figure>"
   ]
  },
  {
   "cell_type": "markdown",
   "id": "5a0d6cf5-1030-4fb4-91e2-f7c2e1fbb9a0",
   "metadata": {},
   "source": [
    "<h2 style='font-size:30px'> 2.3 Elimination Using Matrices</h2>\n",
    "<div> \n",
    "    <ul style='font-size:20px'> \n",
    "        <li> \n",
    "            Nessa seção, é introduzido o conceito de multiplicação de matriz. Esse procedimento nada mais é do que uma sequência de <i> produtos escalares</i> entre cada vetor-linha da matriz da esquerda com os vetores-coluna da matriz da direita.\n",
    "        </li>\n",
    "        <li>\n",
    "            Usaremos a multiplicação de matriz como meio para executarmos a Eliminação Gaussiana.\n",
    "        </li>\n",
    "    </ul>\n",
    "</div>"
   ]
  },
  {
   "cell_type": "markdown",
   "id": "2ceca0c8-ef55-46ef-8954-1adc5e7a78b1",
   "metadata": {},
   "source": [
    "<h3 style='font-size:30px;font-style:italic'> The Matrix Form of One Elimination Step</h3>\n",
    "<div> \n",
    "    <ul style='font-size:20px'>\n",
    "        <li>\n",
    "            A Eliminação Gaussiana com matrizes envolve um encadeamento de multiplicações com matrizes $E_{ij}$.\n",
    "        </li>\n",
    "        <li>\n",
    "            Essas consistem em versões transformadas da matriz-identidade $I$. Para eliminarmos a $j$-ésima variável da $i$-ésima equação, definimos $e_{ij}=-l_{ij}$. \n",
    "        </li>\n",
    "        <li>\n",
    "            Assim, para realizarmos a eliminação, fazemos as multiplicações $E_{ij}A$ e $E_{ij}b$.\n",
    "        </li>\n",
    "     </ul>\n",
    "</div>"
   ]
  },
  {
   "cell_type": "markdown",
   "id": "c8f55a4e-6823-4b94-9874-3568a5504c66",
   "metadata": {},
   "source": [
    "<h3 style='font-size:30px;font-style:italic'> Matrix Multiplication</h3>\n",
    "<div> \n",
    "    <ul style='font-size:20px'>\n",
    "        <li>\n",
    "            Em multiplicações de matrizes encadeadas, pouco importa a ordem das operações, desde que envolvam matrizes consecutivas e que mantenhamos a posição relativa entre elas (a da esquerda e da direita).\n",
    "        </li>\n",
    "        <li>\n",
    "            Lembre-se, a inversão da posição relativa provavelmente levará a resultados diferentes do esperado!\n",
    "        </li>\n",
    "     </ul>\n",
    "</div>"
   ]
  },
  {
   "cell_type": "markdown",
   "id": "78272c7f-6145-4990-8175-88cb528ea58c",
   "metadata": {},
   "source": [
    "<figure>\n",
    "        <center style='margin-top:20px'>\n",
    "            <img src='img/02_mult_rules.png'>\n",
    "                <figcaption> Em multiplicação de matrizes, apenas a Lei Associativa é válida!</figcaption>\n",
    "        </center>\n",
    "    </figure>"
   ]
  },
  {
   "cell_type": "markdown",
   "id": "78440745-e3df-48f8-9113-41ff4587b690",
   "metadata": {},
   "source": [
    "<h3 style='font-size:30px;font-style:italic'> The Matrix $P_{ij}$ for a Row Exchange</h3>\n",
    "<div> \n",
    "    <ul style='font-size:20px'>\n",
    "        <li>\n",
    "            A troca de linhas numa matriz também pode ser efetuada por uma simples multiplicação de matriz. \n",
    "        </li>\n",
    "        <li>\n",
    "            Iniciamos com uma matriz $0$. Caso quisermos que a $i$-ésima linha de $a$ passe a ocupar a $j$-ésima, inserimos um 1 em $p_{ji}$.\n",
    "        </li>\n",
    "        <li>\n",
    "            O restante das linhas assumem o padrão das da matriz identidade.\n",
    "        </li>\n",
    "     </ul>\n",
    "</div>"
   ]
  },
  {
   "cell_type": "code",
   "execution_count": 3,
   "id": "0372903a-156b-45e4-b722-6633689b874e",
   "metadata": {},
   "outputs": [
    {
     "data": {
      "text/plain": [
       "array([[1, 2, 3],\n",
       "       [7, 8, 9],\n",
       "       [4, 5, 6]])"
      ]
     },
     "execution_count": 3,
     "metadata": {},
     "output_type": "execute_result"
    }
   ],
   "source": [
    "# Dada a matriz A, vamos trocar o seu segundo vetor-linha com o terceiro.\n",
    "import numpy as np\n",
    "\n",
    "A = np.array([\n",
    "    [1,2,3],\n",
    "    [4,5,6],\n",
    "    [7,8,9]\n",
    "])\n",
    "\n",
    "P = np.array([\n",
    "    [1,0,0],\n",
    "    [0,0,1],\n",
    "    [0,1,0]\n",
    "])\n",
    "\n",
    "np.matmul(P,A)"
   ]
  },
  {
   "cell_type": "markdown",
   "id": "d06c8600-3b12-48f4-adce-5154f76e78fb",
   "metadata": {},
   "source": [
    "<h3 style='font-size:30px;font-style:italic'> The Augmented Matrix</h3>\n",
    "<div> \n",
    "    <ul style='font-size:20px'>\n",
    "        <li>\n",
    "            Observe que, como todas as operações da Eliminação Gaussiana feitas em $A$ ocorrem também em $b$, podemos muito bem criar uma matriz retangular <i>concatenando</i> este vetor à matriz de coeficientes como um vetor-coluna.\n",
    "        </li>\n",
    "        <li>\n",
    "            Uma matriz originada pela concatenação dessas ordenações é conhecida como <strong> Augmented Matrix</strong>.\n",
    "        </li>\n",
    "     </ul>\n",
    "</div>"
   ]
  },
  {
   "cell_type": "markdown",
   "id": "f587db1a-b039-4f0d-ad8d-03c5af01031a",
   "metadata": {},
   "source": [
    "<figure>\n",
    "        <center style='font-size:15px;margin-top:20px'>\n",
    "            $\\begin{bmatrix}A&b\\end{bmatrix}$\n",
    "                <figcaption> Notação de uma Augmented Matrix</figcaption>\n",
    "        </center>\n",
    "    </figure>"
   ]
  },
  {
   "cell_type": "markdown",
   "id": "60ad56d9-c0c3-4405-bd24-b3cea66c7e1e",
   "metadata": {},
   "source": [
    "<h2 style='font-size:30px'> 2.4 Rules for Matrix Operations</h2>\n",
    "<div> \n",
    "    <ul style='font-size:20px'> \n",
    "        <li> \n",
    "            Nessa seção, são formalizadas as principais convenções de operações com matrizes. \n",
    "        </li>\n",
    "        <li>\n",
    "            Por exemplo, podemos somar duas matrizes, desde que elas tenham mesmo formato. A multiplicação de uma matriz A por um número $e$ resultará em uma nova matriz cujos componentes serão:\n",
    "        </li>\n",
    "    </ul>\n",
    "</div>"
   ]
  },
  {
   "cell_type": "markdown",
   "id": "192544b0-3cd8-4b7c-9390-b2a1afeeb237",
   "metadata": {},
   "source": [
    "<figure>\n",
    "        <center style='font-size:20px;margin-top:20px'>\n",
    "            $ea_{ij}\\text{ }\\forall{i\\in\\{1\\dots{n}\\}},\\forall{j\\in\\{1\\dots{m}\\}}$\n",
    "        </center>\n",
    "    </figure>"
   ]
  },
  {
   "cell_type": "markdown",
   "id": "e0767475-682e-4dc5-bf29-784861740d2a",
   "metadata": {},
   "source": [
    "<h3 style='font-size:30px;font-style:italic'> Inner e Outer Products</h3>\n",
    "<div> \n",
    "    <ul style='font-size:20px'>\n",
    "        <li>\n",
    "            Dado um vetor-linha $a$ e um vetor-coluna $b$ de mesma dimensionalidade, podemos multiplicá-los de duas maneiras.\n",
    "        </li>\n",
    "        <li>\n",
    "            $ab$ resultará em um dot product (ou <i>inner product</i>), enquanto que $ba$ gerará uma matriz $n\\times{n}$. Essa última operação é conhecida como <i>outer product</i>.\n",
    "        </li>\n",
    "     </ul>\n",
    "</div>"
   ]
  },
  {
   "cell_type": "code",
   "execution_count": 31,
   "id": "742a9b6e-0dc8-48e4-8388-84e44cfa8348",
   "metadata": {},
   "outputs": [
    {
     "name": "stdout",
     "output_type": "stream",
     "text": [
      "[[20]]\n",
      "\n",
      "[[ 2  4  6]\n",
      " [ 3  6  9]\n",
      " [ 4  8 12]]\n"
     ]
    }
   ],
   "source": [
    "import numpy as np\n",
    "a = np.array([1,2,3], ndmin=2)#.reshape\n",
    "b = np.array([2,3,4]).reshape(-1,1)\n",
    "\n",
    "# Inner Product.\n",
    "print(np.matmul(a,b), end='\\n\\n')\n",
    "\n",
    "# Outer Product.\n",
    "print(np.matmul(b,a))"
   ]
  },
  {
   "cell_type": "markdown",
   "id": "2c110f22-bf56-4a2f-a98e-b4eaeab3bef6",
   "metadata": {},
   "source": [
    "<div> \n",
    "    <ul style='font-size:20px'>\n",
    "        <li>\n",
    "            Podemos efetuar uma multiplicação de matrizes como uma soma de outer products do $i$-ésimo vetor-coluna de $A$ com o $i$-ésimo vetor-linha de $B$.\n",
    "        </li>\n",
    "     </ul>\n",
    "</div>"
   ]
  },
  {
   "cell_type": "markdown",
   "id": "2a6a1fcc-56ca-447b-a38b-b929e8357a6d",
   "metadata": {},
   "source": [
    "<figure>\n",
    "        <center style='margin-top:20px'>\n",
    "            <img src='img/02_matmul_outer.png'>\n",
    "                <figcaption> Representação da Multiplicação de Matriz como uma soma de Outer Products.</figcaption>\n",
    "        </center>\n",
    "    </figure>"
   ]
  },
  {
   "cell_type": "code",
   "execution_count": 42,
   "id": "93a3b370-45fa-464e-87f4-46294294218b",
   "metadata": {},
   "outputs": [
    {
     "data": {
      "text/plain": [
       "array([[ 7, 10],\n",
       "       [15, 22]])"
      ]
     },
     "execution_count": 42,
     "metadata": {},
     "output_type": "execute_result"
    }
   ],
   "source": [
    "# Realizando um teste no Numpy.\n",
    "A = np.array([[1,2], [3,4]])\n",
    "B = A\n",
    "\n",
    "np.sum([np.outer(A[:,i],B[i,:]) for i in range(A.shape[0])], axis=0)"
   ]
  },
  {
   "cell_type": "code",
   "execution_count": 40,
   "id": "d7bdbc1a-dd7e-46b7-91a5-77afade7216b",
   "metadata": {},
   "outputs": [
    {
     "data": {
      "text/plain": [
       "array([[ 7, 10],\n",
       "       [15, 22]])"
      ]
     },
     "execution_count": 40,
     "metadata": {},
     "output_type": "execute_result"
    }
   ],
   "source": [
    "# Observe que o resultado é o mesmo que o de `np.matmul`.\n",
    "np.matmul(A,B)"
   ]
  },
  {
   "cell_type": "markdown",
   "id": "65a4dd72-dd14-4af9-a018-2683f14a8a22",
   "metadata": {},
   "source": [
    "<h3 style='font-size:30px;font-style:italic'> The Laws for Matrix Operations</h3>\n",
    "<div> \n",
    "    <ul style='font-size:20px'>\n",
    "        <li>\n",
    "            Aqui, são apresentadas regras sobre soma e multiplicação de matrizes. Nem todas elas se aplicam a ambas as operações.\n",
    "        </li>\n",
    "     </ul>\n",
    "</div>"
   ]
  },
  {
   "cell_type": "markdown",
   "id": "b5a14fdb-3137-4433-b7f2-119fd64896e0",
   "metadata": {},
   "source": [
    "<table>\n",
    "    <thead>\n",
    "        <tr>\n",
    "            <th>\n",
    "                Lei\n",
    "            </th>\n",
    "            <th>\n",
    "                Soma\n",
    "            </th>\n",
    "            <th>\n",
    "                Multiplicação\n",
    "            </th>\n",
    "        </tr>\n",
    "    </thead>\n",
    "    <tbody style='text-align:center'>\n",
    "        <tr>\n",
    "            <td>\n",
    "                Lei Distributiva\n",
    "            </td>\n",
    "            <td>\n",
    "                $c(A+B)=cA+cB$\n",
    "            </td>\n",
    "            <td>\n",
    "                <p>\n",
    "                $A(B+C)=AB+AC$\n",
    "                </p>\n",
    "                <p>\n",
    "                    $(A+B)C=AC+BC$\n",
    "                </p>\n",
    "            </td>\n",
    "        </tr>\n",
    "        <tr>\n",
    "            <td>\n",
    "                Lei Associativa\n",
    "            </td>\n",
    "            <td>\n",
    "                $A+(B+C)=(A+B)+C$\n",
    "            </td>\n",
    "            <td>\n",
    "                $A(BC)=(AB)C$\n",
    "            </td>\n",
    "        </tr>\n",
    "        <tr>\n",
    "            <td>\n",
    "                Lei Comutativa\n",
    "            </td>\n",
    "            <td>\n",
    "                $A+B=B+A$\n",
    "            </td>\n",
    "            <td>\n",
    "                Não se Aplica\n",
    "            </td>\n",
    "        </tr>\n",
    "    </tbody>\n",
    "</table>"
   ]
  },
  {
   "cell_type": "markdown",
   "id": "dec6a2f5-7895-48f4-9a4a-c1dcdd02c242",
   "metadata": {
    "tags": []
   },
   "source": [
    "<h4 style='font-size:30px;font-style:italic;text-decoration:underline'> Potências de Matrizes</h4>\n",
    "<div> \n",
    "    <ul style='font-size:20px'>\n",
    "        <li> \n",
    "            Potências de matrizes obedecem as mesmas regras que as de números ($A^{p}{A^{q}}=A^{p+q}$, $(A^{p})^{q}=A^{pq}$).\n",
    "        </li>\n",
    "        <li>\n",
    "            Elas se aplicam também para expoentes negativos, mas lembre-se de que a matriz deve possuir uma inversa $A^{-1}$.\n",
    "        </li>\n",
    "     </ul>\n",
    "</div>"
   ]
  },
  {
   "cell_type": "markdown",
   "id": "0d2dcda3-ddc6-441f-8b13-b46a562badb7",
   "metadata": {},
   "source": [
    "<h3 style='font-size:30px;font-style:italic'> Block Matrices and Block Multiplication</h3>\n",
    "<div> \n",
    "    <ul style='font-size:20px'>\n",
    "        <li>\n",
    "            Matrizes podem ser divididas em blocos, cada um contendo uma parte de seus números. Esses blocos podem sofrer operações como soma e multiplicação com outra matriz, caso seus formatos permitam isso. \n",
    "        </li>\n",
    "        <li>\n",
    "            Operações em bloco são bastante usadas por algoritmos computacionais, que buscam realizar contas o mais rápido possível.\n",
    "        </li>\n",
    "     </ul>\n",
    "</div>"
   ]
  },
  {
   "cell_type": "markdown",
   "id": "f11c8cd4-3909-4997-87a5-4d49d9cf575c",
   "metadata": {},
   "source": [
    "<figure>\n",
    "        <center style='font-size:15px;margin-top:20px'>\n",
    "                <img src='img/02_block_matrix.png'>\n",
    "                <figcaption> Quebra de uma matriz $4\\times{6}$ em blocos $2\\times{2}$.</figcaption>\n",
    "        </center>\n",
    "    </figure>"
   ]
  },
  {
   "cell_type": "markdown",
   "id": "0c40e696-8ef9-4cc2-855a-6803d2b4dfe8",
   "metadata": {},
   "source": [
    "<div> \n",
    "    <ul style='font-size:20px'>\n",
    "        <li>\n",
    "            Quando formos realizar uma operação em matrizes seccionadas, podemos considerar cada bloco como um componente específico das matrizes.\n",
    "        </li>\n",
    "        <li>\n",
    "            No caso da soma, somamos os blocos de acordo com sua posição, assim como em matrizes não seccionadas (caso seus formatos o permitam).\n",
    "        </li>\n",
    "        <li>\n",
    "            Já na multiplicação, formamos uma nova matriz seccionada a partir da soma das multiplicações entre uma linha de blocos da matriz da esquerda com uma coluna de blocos da matriz da direita.\n",
    "        </li>\n",
    "     </ul>\n",
    "</div>"
   ]
  },
  {
   "cell_type": "markdown",
   "id": "5adb497c-5061-4369-8d2d-96266f8332fa",
   "metadata": {},
   "source": [
    "<figure>\n",
    "        <center style='margin-top:20px'>\n",
    "            <img src='img/02_block_mult.png'>\n",
    "                <figcaption> Representação da Multiplicação de Matriz entre matrizes seccionadas.</figcaption>\n",
    "        </center>\n",
    "    </figure>"
   ]
  },
  {
   "cell_type": "markdown",
   "id": "fe5990bc-c607-4729-a7c6-1d360333743a",
   "metadata": {
    "tags": []
   },
   "source": [
    "<h4 style='font-size:30px;font-style:italic;text-decoration:underline'> Block Elimination</h4>\n",
    "<div> \n",
    "    <ul style='font-size:20px'>\n",
    "        <li> \n",
    "            Ainda interpretando as sub-matrizes como meros componentes, podemos aplicar o método de eliminação sobre eles, assim como em matrizes comuns.\n",
    "        </li>\n",
    "        <li>\n",
    "            Na imagem abaixo, aplicamos uma eliminação em bloco, de modo a tornar $C$ uma matriz $0$. No caso, o bloco $D-CA^{-1}B$ fica conhecido como <strong> Schur Component</strong> de $A$ na matriz $M$.\n",
    "        </li>\n",
    "     </ul>\n",
    "</div>"
   ]
  },
  {
   "cell_type": "code",
   "execution_count": 7,
   "id": "7e141d4c-f9d1-4280-86d7-d19112d0ad4b",
   "metadata": {},
   "outputs": [
    {
     "name": "stdout",
     "output_type": "stream",
     "text": [
      "[master b7f9635] Explicar multiplicação em blocos\n",
      " 2 files changed, 49 insertions(+), 12 deletions(-)\n",
      " create mode 100644 img/02_block_mult.png\n",
      "Enumerating objects: 8, done.\n",
      "Counting objects: 100% (8/8), done.\n",
      "Delta compression using up to 24 threads\n",
      "Compressing objects: 100% (5/5), done.\n",
      "Writing objects: 100% (5/5), 100.95 KiB | 20.19 MiB/s, done.\n",
      "Total 5 (delta 3), reused 0 (delta 0), pack-reused 0\n",
      "remote: Resolving deltas: 100% (3/3), completed with 3 local objects.\u001b[K\n",
      "To https://github.com/felipesveiga/linear-algebra.git\n",
      "   5c6d389..b7f9635  master -> master\n"
     ]
    }
   ],
   "source": [
    "! git add .\n",
    "! git commit -am 'Continuar Exs. seção 2.4' \n",
    "! git push"
   ]
  },
  {
   "cell_type": "markdown",
   "id": "c1438d63-72d8-442a-947d-d1e74c6292cf",
   "metadata": {},
   "source": [
    "<p style='color:red'> Iniciei Exs 2.4; Continuar Exs. seção 2.4\n",
    "</p>"
   ]
  }
 ],
 "metadata": {
  "kernelspec": {
   "display_name": "Python 3 (ipykernel)",
   "language": "python",
   "name": "python3"
  },
  "language_info": {
   "codemirror_mode": {
    "name": "ipython",
    "version": 3
   },
   "file_extension": ".py",
   "mimetype": "text/x-python",
   "name": "python",
   "nbconvert_exporter": "python",
   "pygments_lexer": "ipython3",
   "version": "3.10.12"
  }
 },
 "nbformat": 4,
 "nbformat_minor": 5
}

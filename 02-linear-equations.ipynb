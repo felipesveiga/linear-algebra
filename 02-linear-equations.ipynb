{
 "cells": [
  {
   "cell_type": "markdown",
   "id": "2032f00c-033c-46b7-8bcb-9e2565fb8114",
   "metadata": {},
   "source": [
    "## <h1 style='font-size:40px'> Solving Linear Equations </h1>"
   ]
  },
  {
   "cell_type": "markdown",
   "id": "7fb11c88-1558-4668-94f3-8f4eca1a411e",
   "metadata": {
    "jp-MarkdownHeadingCollapsed": true
   },
   "source": [
    "<h2 style='font-size:30px'> 2.1\n",
    "Vectors and Linear Equations</h2>\n",
    "<div> \n",
    "    <ul style='font-size:20px'> \n",
    "        <li> \n",
    "            O problema central da Álgebra Linear é a solução de sistemas de equações, sendo estas, muitas vezes, lineares. Por \"linear\", entenda, que as variáveis são somente multiplicadas por coeficientes.\n",
    "        </li>\n",
    "        <li>\n",
    "            Sistemas de Equações buscam, nada mais, do que o ponto no plano em que as equações de todas as linhas intercedem.\n",
    "        </li>\n",
    "    </ul>\n",
    "</div>"
   ]
  },
  {
   "cell_type": "markdown",
   "id": "e30efed7-537a-42f0-8517-ac3fa61ce7c9",
   "metadata": {},
   "source": [
    "<h4 style='font-size:30px;font-style:italic;text-decoration:underline'> Exemplo</h4>\n",
    "<div> \n",
    "    <ul style='font-size:20px'> \n",
    "        <li> \n",
    "            Um sistema de equações pode ser representado de diferentes maneiras. Vamos usar um exemplo simples para ilustrarmos isso.\n",
    "        </li>\n",
    "    </ul>\n",
    "</div>"
   ]
  },
  {
   "cell_type": "markdown",
   "id": "70c56796-dbe7-4b8d-ba6b-391e887e4853",
   "metadata": {},
   "source": [
    "<center style='font-size:20px'> \n",
    "    $$\\begin{cases}\n",
    "        x-2y=1\\\\\n",
    "        3x+2y=11\n",
    "    \\end{cases}\n",
    "    $$\n",
    "</center>"
   ]
  },
  {
   "cell_type": "markdown",
   "id": "ff6e0c23-d51d-4986-b95a-ac12e431d487",
   "metadata": {},
   "source": [
    " <center style='font-size:20px;margin-top:20px'> \n",
    "        <figure>\n",
    "            $$x \\begin{bmatrix}1\\\\3\\end{bmatrix}+y\\begin{bmatrix}-2\\\\2\\end{bmatrix}=\\begin{bmatrix}1\\\\11\\end{bmatrix}$$\n",
    "            <figcaption style='font-size:15px'> Note que podemos representar o sistema de equações como uma combinação linear, também! </figcaption>\n",
    "        </figure>\n",
    "    </center>"
   ]
  },
  {
   "cell_type": "markdown",
   "id": "8dc01913-99bc-44f9-bc07-ca04e1b01e41",
   "metadata": {},
   "source": [
    " <center style='font-size:20px;margin-top:20px'> \n",
    "        <figure>\n",
    "            $$\\begin{bmatrix}1 & -2\\\\ 3  & 2\\end{bmatrix} \\begin{bmatrix}x\\\\y\\end{bmatrix}=\\begin{bmatrix}1\\\\11\\end{bmatrix}$$\n",
    "            <figcaption style='font-size:15px'> O sistema ainda pode ser escrito como uma multiplicação de uma matriz com um vetor.</figcaption>\n",
    "        </figure>\n",
    "    </center>"
   ]
  },
  {
   "cell_type": "markdown",
   "id": "b8ed92b2-88b7-4f54-841d-305714ac45dd",
   "metadata": {},
   "source": [
    " <center style='margin-top:20px'> \n",
    "        <figure>\n",
    "            <img src='img/01_system_plane.png'>\n",
    "            <figcaption> Observe que a solução do sistema $(3,1)$ é justamente a interseção das retas.</figcaption>\n",
    "        </figure>\n",
    "    </center>"
   ]
  },
  {
   "cell_type": "markdown",
   "id": "1bc44b50-d52b-4a0e-8317-9d68c93c56a0",
   "metadata": {},
   "source": [
    "<h3 style='font-size:30px;font-style:italic'> Three Equations in Three Unknowns</h3>\n",
    "<div> \n",
    "    <ul style='font-size:20px'>\n",
    "        <li> \n",
    "            No momento, vamos tentar solucionar sistemas em que a quantidade de equações é a mesma de variáveis. Nesse tipo de problema, costuma-se haver uma única solução.\n",
    "        </li>\n",
    "     </ul>\n",
    "</div>"
   ]
  },
  {
   "cell_type": "markdown",
   "id": "f75f86c6-f8fc-4884-b32a-9f4689b9fedc",
   "metadata": {},
   "source": [
    "<h3 style='font-size:30px;font-style:italic'>The Matrix Form of the Equations</h3>\n",
    "<div> \n",
    "    <ul style='font-size:20px'>\n",
    "        <li> \n",
    "            Aqui é ensinado como devemos efetuar a multiplicação entre uma matriz $A$ com um vetor $x$. Deveremos efetuar um dot product entre cada vetor-linha de $A$ com $x$, dando origem a um dos componentes de $b$.\n",
    "        </li>\n",
    "     </ul>\n",
    "</div>"
   ]
  },
  {
   "cell_type": "markdown",
   "id": "01b2fd9c-f0e9-4325-a14e-95dfdd84e1a4",
   "metadata": {},
   "source": [
    " <center style='font-size:20px;margin-top:20px'> \n",
    "        <figure>\n",
    "            $$Ax=\\begin{bmatrix}\\text{row 1}\\cdot{x} \\\\\n",
    "                  \\text{row 2}\\cdot{x} \\\\\n",
    "                  \\text{row 3}\\cdot{x}\n",
    "            \\end{bmatrix}=b$$\n",
    "            <figcaption style='font-size:15px'> Ilustração da multiplicação entre $A$ e $x$.</figcaption>\n",
    "        </figure>\n",
    "    </center>"
   ]
  },
  {
   "cell_type": "markdown",
   "id": "816db2d8-2d00-4109-b578-a08fe0b40a48",
   "metadata": {},
   "source": [
    "<h4 style='font-size:30px;font-style:italic;text-decoration:underline'> Matriz Identidade</h4>\n",
    "<div> \n",
    "    <ul style='font-size:20px'> \n",
    "        <li> \n",
    "            A matriz identidade é uma espécie de matriz quadrada cuja diagonal principal é constituída de 1's, enquanto que todos os demais componentes são 0's. \n",
    "        </li>\n",
    "        <li>\n",
    "            Quando a multiplicamos com um vetor, o resultado da operação será o próprio vetor.\n",
    "        </li>\n",
    "    </ul>\n",
    "</div>"
   ]
  },
  {
   "cell_type": "code",
   "execution_count": 12,
   "id": "5235bf87-5fdf-4133-ba71-c8a9247a1ec8",
   "metadata": {},
   "outputs": [
    {
     "name": "stdout",
     "output_type": "stream",
     "text": [
      "Identity:\n",
      " [[1. 0. 0. 0.]\n",
      " [0. 1. 0. 0.]\n",
      " [0. 0. 1. 0.]\n",
      " [0. 0. 0. 1.]] \n",
      "\n",
      "x:\n",
      " [1. 2. 3. 4.]\n"
     ]
    }
   ],
   "source": [
    "# Realizando um breve exemplo com um vetor de 4 componentes.\n",
    "import numpy as np\n",
    "\n",
    "I = np.identity(4)\n",
    "x = np.linspace(1, 4, 4)\n",
    "\n",
    "print('Identity:\\n', I, '\\n\\nx:\\n', x)"
   ]
  },
  {
   "cell_type": "code",
   "execution_count": 13,
   "id": "f25fa407-f665-4993-9d86-47fac855fae4",
   "metadata": {},
   "outputs": [
    {
     "data": {
      "text/plain": [
       "array([1., 2., 3., 4.])"
      ]
     },
     "execution_count": 13,
     "metadata": {},
     "output_type": "execute_result"
    }
   ],
   "source": [
    "# Observe que o produto da multiplicação é o próprio x.\n",
    "np.matmul(I,x)"
   ]
  },
  {
   "cell_type": "markdown",
   "id": "4ef935b7-e4e3-456f-ae8b-e67c2d161f37",
   "metadata": {},
   "source": [
    "<h3 style='font-size:30px;font-style:italic'> Matrix Notation</h3>\n",
    "<div> \n",
    "    <ul style='font-size:20px'>\n",
    "        <li> \n",
    "            Um componente específico de uma matriz $A$ pode ser identificado como $a_{ij}$, ou $A(i,j)$. $i$ se refere à numeração da linha, enquanto que $j$ da coluna em que o dado número se encontra.\n",
    "        </li>\n",
    "     </ul>\n",
    "</div>"
   ]
  },
  {
   "cell_type": "markdown",
   "id": "a06daa6d-dc13-404c-8cfe-434ade970982",
   "metadata": {},
   "source": [
    "<h3 style='font-size:30px;font-style:italic'> Comprovando a Viabilidade de um Sistema de Equações</h3>\n",
    "<div> \n",
    "    <ul style='font-size:20px'>\n",
    "        <li> \n",
    "            Um sistema de equações que tenha solução possui algum vetor $y$ que, quando multiplicado por cada vetor-coluna de $A$ gera o vetor $0$. Da mesma forma, o produto escalar com $b$ deve se resultar em $0$, também.\n",
    "        </li>\n",
    "        <li>\n",
    "            Vamos descobrir a viabilidade de uma solução para o sistema abaixo.\n",
    "        </li>\n",
    "     </ul>\n",
    "</div>"
   ]
  },
  {
   "cell_type": "markdown",
   "id": "980be1cf-f659-4e3a-8840-5b4752f28200",
   "metadata": {},
   "source": [
    "<center style='font-size:20px;margin-top:20px'> \n",
    "                 $$\n",
    "                \\begin{bmatrix} \n",
    "                1 & 3 & 5 \\\\\n",
    "                1 & 2 & -3 \\\\\n",
    "                2 & 5 & 2\n",
    "                \\end{bmatrix}\n",
    "                \\begin{bmatrix} \n",
    "                x \\\\\n",
    "                y \\\\\n",
    "                z\n",
    "                \\end{bmatrix} \n",
    "                =\n",
    "                \\begin{bmatrix} \n",
    "                4 \\\\\n",
    "                5 \\\\\n",
    "                8\n",
    "                \\end{bmatrix} \n",
    "                $$\n",
    "</center>"
   ]
  },
  {
   "cell_type": "code",
   "execution_count": 1,
   "id": "d4a6a934-c69e-4753-bfd8-a73825869481",
   "metadata": {},
   "outputs": [],
   "source": [
    "import numpy as np\n",
    "A = np.array([[1,3,5], [1,2,-3], [2,5,2]])\n",
    "b = np.array([4,5,8])"
   ]
  },
  {
   "cell_type": "code",
   "execution_count": 4,
   "id": "efdc425b-54fb-4fc6-b1bf-c8bb9a34645a",
   "metadata": {},
   "outputs": [
    {
     "data": {
      "text/plain": [
       "(array([0, 0, 0]), 1)"
      ]
     },
     "execution_count": 4,
     "metadata": {},
     "output_type": "execute_result"
    }
   ],
   "source": [
    "# Observe que, multiplicando cada vetor-coluna de A com (1,1,-1), ficamos com (0,0,0).\n",
    "# Já o produto escalar desse vetor com b resulta em 1. Portanto, podemos dizer que esse\n",
    "# sistema não tem solução.\n",
    "\n",
    "y = np.array([1,1,-1])\n",
    "np.matmul(A.T,y), np.dot(y,b)"
   ]
  },
  {
   "cell_type": "markdown",
   "id": "1a969d66-d92d-4361-83c0-d5ec22925c81",
   "metadata": {
    "jp-MarkdownHeadingCollapsed": true
   },
   "source": [
    "<h2 style='font-size:30px'> 2.2\n",
    "The Idea of Elimination</h2>\n",
    "<div> \n",
    "    <ul style='font-size:20px'> \n",
    "        <li> \n",
    "            Em sistemas em que a quantidade de equações e variáveis é igual, podemos resolvê-los pelo método de eliminação.\n",
    "        </li>\n",
    "        <li>\n",
    "                A ideia é transformarmos cada equação, de modo que o sistema passe a ter a forma de um <i> triângulo retângulo</i>. A última equação deve apresentar apenas uma variável, a de cima duas, e assim por diante.\n",
    "        </li>\n",
    "    </ul>\n",
    "</div>"
   ]
  },
  {
   "cell_type": "markdown",
   "id": "2b1bbfaa-4646-4282-9a90-86499a55abf8",
   "metadata": {},
   "source": [
    "<figure>\n",
    "        <center style='margin-top:20px'>\n",
    "            <img src='img/02_triangle.png'>\n",
    "                <figcaption> Exemplo da aplicação da Eliminação.</figcaption>\n",
    "        </center>\n",
    "    </figure>"
   ]
  },
  {
   "cell_type": "markdown",
   "id": "4cd5170d-cab9-47bc-af9a-f5c4ea759414",
   "metadata": {},
   "source": [
    "<h3 style='font-size:30px;font-style:italic'> Algoritmo de Eliminação</h3>\n",
    "<div> \n",
    "    <ul style='font-size:20px'>\n",
    "        <li> \n",
    "            Devemos eliminar as variáveis da esquerda para a direita. Vamos identificar $i$ como índice de linhas. Note que a matriz de coeficientes é quadrada.\n",
    "            $$\\begin{bmatrix} \n",
    "                a_{11} & a_{12} & a_{13} \\\\ \n",
    "                a_{21} & a_{22} & a_{23} \\\\\n",
    "                a_{31} & a_{32} & a_{33}\n",
    "            \\end{bmatrix} \\begin{bmatrix} x\\\\y\\\\z \\end{bmatrix}=\\begin{bmatrix} b_1\\\\ b_2\\\\b_3 \\end{bmatrix}$$\n",
    "        </li>\n",
    "        <li>\n",
    "            Como primeiro passo, devemos eliminar a primeira variável de todas as equações, fora a primeira. Para isso, subtraímos a equação de i-ésima linha por $\\frac{a_{i1}}{a_{11}}\\times{\\text{equation}_1}$. Observe que todas elas ficarão $0x$.\n",
    "        </li>\n",
    "        <li>\n",
    "            Em seguida, eliminamos a segunda variável usando a equação da segunda linha. Agora, subtraímos cada equação $i$ das linhas debaixo por $\\frac{a_{i2}}{a_{22}}\\times{\\text{equation}_2}$.\n",
    "        </li>\n",
    "     </ul>\n",
    "</div>"
   ]
  },
  {
   "cell_type": "markdown",
   "id": "dd29f49e-8294-4bd2-ae86-2aa80aef12fc",
   "metadata": {
    "tags": []
   },
   "source": [
    "<h4 style='font-size:30px;font-style:italic;text-decoration:underline'> Fórmula Geral da Eliminação</h4>\n",
    "<div> \n",
    "    <ul style='font-size:20px'>\n",
    "        <li> \n",
    "            A Eliminação da i-ésima variável da j-ésima equação do sistema pode ser escrita da seguinte maneira:\n",
    "            <center style='font-size:20px;margin-top:20px'>\n",
    "            $\\text{equation}_j=\\frac{a_{ji}}{a_{ii}}\\times{\\text{equation}_i}, \\forall j=i+1\\dotsc N$\n",
    "            </center>\n",
    "        </li>\n",
    "        <li style='margin-top:20px'>\n",
    "            Considere como $N$ a quantidade de equações do sistema. Chamamos $a_{ii}$ de <i> pivot</i>, enquanto $\\frac{a_{ji}}{a_{ii}}$ de <i> multiplier</i>.\n",
    "        </li>\n",
    "     </ul>\n",
    "</div>"
   ]
  },
  {
   "cell_type": "markdown",
   "id": "ada5948f-d13d-4999-8df6-3725be4e8c2b",
   "metadata": {},
   "source": [
    "<h3 style='font-size:30px;font-style:italic'> Breakdown of Elimination</h3>\n",
    "<div> \n",
    "    <ul style='font-size:20px'>\n",
    "        <li> \n",
    "            Os sistemas de equações podem falhar em três situações específicas. Nós as analisaremos com mais detalhe a seguir:\n",
    "        </li>\n",
    "     </ul>\n",
    "</div>"
   ]
  },
  {
   "cell_type": "markdown",
   "id": "8083c5b3-3e2b-4a58-a5c2-1bea62eb9f74",
   "metadata": {
    "tags": []
   },
   "source": [
    "<h4 style='font-size:30px;font-style:italic;text-decoration:underline'> Ausência de Solução</h4>\n",
    "<div> \n",
    "    <ul style='font-size:20px'>\n",
    "        <li> \n",
    "            O sistema tem ausência de solução quando não há um ponto de interseção entre as linhas.\n",
    "        </li>\n",
    "        <li>\n",
    "            Descobrimos isso quando o processo de eliminação leva a um <i>pivot</i> 0 igual a um número $\\neq{0}$.\n",
    "        </li>\n",
    "     </ul>\n",
    "</div>"
   ]
  },
  {
   "cell_type": "markdown",
   "id": "a3fe6596-f66e-47ef-b140-fc822fcf6149",
   "metadata": {},
   "source": [
    "<figure>\n",
    "        <center style='margin-top:20px'>\n",
    "            <img src='img/02_no_solution.png'>\n",
    "                <figcaption> Exemplo de um sistema sem solução.</figcaption>\n",
    "        </center>\n",
    "    </figure>"
   ]
  },
  {
   "cell_type": "markdown",
   "id": "c1f35f60-526a-4429-8947-2c202cd1f682",
   "metadata": {},
   "source": [
    "<figure>\n",
    "        <center style='margin-top:20px'>\n",
    "            <img src='img/02_no_solution_2.png'>\n",
    "                <figcaption> Observe que as retas desse sistema nunca se cruzam, e a combinação linear dos vetores-coluna de coeficientes nunca produzirá $b$.</figcaption>\n",
    "        </center>\n",
    "    </figure>"
   ]
  },
  {
   "cell_type": "markdown",
   "id": "ce5baffa-379a-4656-a816-4ea4491ad8f7",
   "metadata": {
    "tags": []
   },
   "source": [
    "<h4 style='font-size:30px;font-style:italic;text-decoration:underline'> Infinitas Soluções</h4>\n",
    "<div> \n",
    "    <ul style='font-size:20px'>\n",
    "        <li> \n",
    "            Obtemos infinitas soluções, quando todas as equações do sistema são iguais. Nessa situação, a solução seriam todos os pontos atravessados pela reta.\n",
    "        </li>\n",
    "        <li>\n",
    "            Descobrimos essa situação, quando o processo de eliminação nos leva a um <i>pivot</i> 0 igual a 0.\n",
    "        </li>\n",
    "     </ul>\n",
    "</div>"
   ]
  },
  {
   "cell_type": "markdown",
   "id": "83a12f5d-a665-4341-ae4d-16c76ab30ebd",
   "metadata": {},
   "source": [
    "<figure>\n",
    "        <center style='margin-top:20px'>\n",
    "            <img src='img/02_infinite_solutions.png'>\n",
    "                <figcaption> Exemplo de um sistema com infinitas soluções.</figcaption>\n",
    "        </center>\n",
    "    </figure>"
   ]
  },
  {
   "cell_type": "markdown",
   "id": "f95d82b2-22a5-4fd6-84fb-2437046fdab9",
   "metadata": {},
   "source": [
    "<figure>\n",
    "        <center style='margin-top:20px'>\n",
    "            <img src='img/02_infinite_solutions_2.png'>\n",
    "                <figcaption> Observe como as equações do sistema, na verdade, são a mesma reta. Isso nos leva a ter infinitas combinações lineares dos vetores-coluna como solução.</figcaption>\n",
    "        </center>\n",
    "    </figure>"
   ]
  },
  {
   "cell_type": "markdown",
   "id": "a55a4cdc-9d88-4b51-be82-905ccf2d4d10",
   "metadata": {
    "tags": []
   },
   "source": [
    "<h4 style='font-size:30px;font-style:italic;text-decoration:underline'> Linhas na Ordem Inapropriada (Breakdown Temporário)</h4>\n",
    "<div> \n",
    "    <ul style='font-size:20px'>\n",
    "        <li> \n",
    "            Idealmente, desejamos eliminar as variáveis da esquerda para a direita, de modo a criarmos um triângulo retângulo de ponta cabeça.\n",
    "        </li>\n",
    "        <li>\n",
    "            No entanto, é possível que recebamos um sistema com as variáveis da esquerda já zeradas nas equações de cima. Nessa situação, o reordenamento delas será o suficiente para a solução do problema.\n",
    "        </li>\n",
    "     </ul>\n",
    "</div>"
   ]
  },
  {
   "cell_type": "markdown",
   "id": "6f80907b-16ec-4bdd-b228-a1abce04e54c",
   "metadata": {},
   "source": [
    "<figure>\n",
    "        <center style='margin-top:20px'>\n",
    "            <img src='img/02_ordering.png'>\n",
    "                <figcaption> Reordenamento das Equações.</figcaption>\n",
    "        </center>\n",
    "    </figure>"
   ]
  },
  {
   "cell_type": "code",
   "execution_count": 7,
   "id": "7e141d4c-f9d1-4280-86d7-d19112d0ad4b",
   "metadata": {},
   "outputs": [
    {
     "name": "stdout",
     "output_type": "stream",
     "text": [
      "[master 8fee08b] Falar sobre os casos de falha dos sistemas de equação\n",
      " 1 file changed, 44 insertions(+), 18 deletions(-)\n",
      "Enumerating objects: 5, done.\n",
      "Counting objects: 100% (5/5), done.\n",
      "Delta compression using up to 24 threads\n",
      "Compressing objects: 100% (3/3), done.\n",
      "Writing objects: 100% (3/3), 986 bytes | 986.00 KiB/s, done.\n",
      "Total 3 (delta 2), reused 0 (delta 0), pack-reused 0\n",
      "remote: Resolving deltas: 100% (2/2), completed with 2 local objects.\u001b[K\n",
      "To https://github.com/felipesveiga/linear-algebra.git\n",
      "   9c8ced0..8fee08b  master -> master\n"
     ]
    }
   ],
   "source": [
    "! git add .\n",
    "! git commit -am 'Explicar o conceito de row e column pictures referenciados pelo livro'\n",
    "! git push"
   ]
  },
  {
   "cell_type": "markdown",
   "id": "c1438d63-72d8-442a-947d-d1e74c6292cf",
   "metadata": {},
   "source": [
    "<p style='color:red'> Expliquei os casos de falha de Sistemas Lineares; Explicar o conceito de row e column pictures referenciados pelo livro; Continuar de Elimination from A to U; Acho legal programar uma classe que aplique a Eliminação Gaussiana\n",
    "</p>"
   ]
  }
 ],
 "metadata": {
  "kernelspec": {
   "display_name": "Python 3 (ipykernel)",
   "language": "python",
   "name": "python3"
  },
  "language_info": {
   "codemirror_mode": {
    "name": "ipython",
    "version": 3
   },
   "file_extension": ".py",
   "mimetype": "text/x-python",
   "name": "python",
   "nbconvert_exporter": "python",
   "pygments_lexer": "ipython3",
   "version": "3.10.12"
  }
 },
 "nbformat": 4,
 "nbformat_minor": 5
}

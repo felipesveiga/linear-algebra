{
 "cells": [
  {
   "cell_type": "markdown",
   "id": "654823a1-05a6-492e-baab-3bcb14a9255c",
   "metadata": {},
   "source": [
    "<h1 style='font-size:40px'> Solving Linear Equations </h1>"
   ]
  },
  {
   "cell_type": "markdown",
   "id": "7fb11c88-1558-4668-94f3-8f4eca1a411e",
   "metadata": {
    "jp-MarkdownHeadingCollapsed": true
   },
   "source": [
    "<h2 style='font-size:30px'> 2.1\n",
    "Vectors and Linear Equations</h2>\n",
    "<div> \n",
    "    <ul style='font-size:20px'> \n",
    "        <li> \n",
    "            O problema central da Álgebra Linear é a solução de sistemas de equações, sendo estas, muitas vezes, lineares. Por \"linear\", entenda, que as variáveis são somente multiplicadas por coeficientes.\n",
    "        </li>\n",
    "        <li>\n",
    "            Sistemas de Equações buscam, nada mais, do que o ponto no plano em que as equações de todas as linhas intercedem.\n",
    "        </li>\n",
    "    </ul>\n",
    "</div>"
   ]
  },
  {
   "cell_type": "markdown",
   "id": "e30efed7-537a-42f0-8517-ac3fa61ce7c9",
   "metadata": {},
   "source": [
    "<h4 style='font-size:30px;font-style:italic;text-decoration:underline'> Exemplo</h4>"
   ]
  },
  {
   "cell_type": "markdown",
   "id": "70c56796-dbe7-4b8d-ba6b-391e887e4853",
   "metadata": {},
   "source": [
    "<center style='font-size:20px'> \n",
    "    $$\\begin{cases}\n",
    "        x-2y=1\\\\\n",
    "        3x+2y=11\n",
    "    \\end{cases}\n",
    "    $$\n",
    "</center>"
   ]
  },
  {
   "cell_type": "markdown",
   "id": "b8ed92b2-88b7-4f54-841d-305714ac45dd",
   "metadata": {},
   "source": [
    " <center style='margin-top:20px'> \n",
    "        <figure>\n",
    "            <img src='img/01_system_plane.png'>\n",
    "            <figcaption> Observe que a solução do sistema $(3,1)$ é justamente a interseção das retas.</figcaption>\n",
    "        </figure>\n",
    "    </center>"
   ]
  },
  {
   "cell_type": "code",
   "execution_count": 1,
   "id": "7e141d4c-f9d1-4280-86d7-d19112d0ad4b",
   "metadata": {},
   "outputs": [
    {
     "name": "stdout",
     "output_type": "stream",
     "text": [
      "[master 0818315] Iniciar Capítulo 2\n",
      " 2 files changed, 140 insertions(+), 28 deletions(-)\n",
      " create mode 100644 02-linear-equations.ipynb\n",
      "Enumerating objects: 6, done.\n",
      "Counting objects: 100% (6/6), done.\n",
      "Delta compression using up to 24 threads\n",
      "Compressing objects: 100% (4/4), done.\n",
      "Writing objects: 100% (4/4), 1.44 KiB | 1.44 MiB/s, done.\n",
      "Total 4 (delta 2), reused 0 (delta 0), pack-reused 0\n",
      "remote: Resolving deltas: 100% (2/2), completed with 1 local object.\u001b[K\n",
      "To https://github.com/felipesveiga/linear-algebra.git\n",
      "   feadcab..0818315  master -> master\n"
     ]
    }
   ],
   "source": [
    "! git add .\n",
    "! git commit -am 'Continuar da p.43'\n",
    "! git push"
   ]
  },
  {
   "cell_type": "markdown",
   "id": "c1438d63-72d8-442a-947d-d1e74c6292cf",
   "metadata": {},
   "source": [
    "<p style='color:red'>  Iniciei Capítulo 2; Continuar da p.43\n",
    "</p>"
   ]
  }
 ],
 "metadata": {
  "kernelspec": {
   "display_name": "Python 3 (ipykernel)",
   "language": "python",
   "name": "python3"
  },
  "language_info": {
   "codemirror_mode": {
    "name": "ipython",
    "version": 3
   },
   "file_extension": ".py",
   "mimetype": "text/x-python",
   "name": "python",
   "nbconvert_exporter": "python",
   "pygments_lexer": "ipython3",
   "version": "3.10.12"
  }
 },
 "nbformat": 4,
 "nbformat_minor": 5
}

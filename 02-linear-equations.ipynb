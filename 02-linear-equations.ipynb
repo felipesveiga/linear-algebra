{
 "cells": [
  {
   "cell_type": "markdown",
   "id": "654823a1-05a6-492e-baab-3bcb14a9255c",
   "metadata": {},
   "source": [
    "<h1 style='font-size:40px'> Solving Linear Equations </h1>"
   ]
  },
  {
   "cell_type": "markdown",
   "id": "7fb11c88-1558-4668-94f3-8f4eca1a411e",
   "metadata": {
    "jp-MarkdownHeadingCollapsed": true
   },
   "source": [
    "<h2 style='font-size:30px'> 2.1\n",
    "Vectors and Linear Equations</h2>\n",
    "<div> \n",
    "    <ul style='font-size:20px'> \n",
    "        <li> \n",
    "            O problema central da Álgebra Linear é a solução de sistemas de equações, sendo estas, muitas vezes, lineares. Por \"linear\", entenda, que as variáveis são somente multiplicadas por coeficientes.\n",
    "        </li>\n",
    "        <li>\n",
    "            Sistemas de Equações buscam, nada mais, do que o ponto no plano em que as equações de todas as linhas intercedem.\n",
    "        </li>\n",
    "    </ul>\n",
    "</div>"
   ]
  },
  {
   "cell_type": "markdown",
   "id": "e30efed7-537a-42f0-8517-ac3fa61ce7c9",
   "metadata": {},
   "source": [
    "<h4 style='font-size:30px;font-style:italic;text-decoration:underline'> Exemplo</h4>\n",
    "<div> \n",
    "    <ul style='font-size:20px'> \n",
    "        <li> \n",
    "            Um sistema de equações pode ser representado de diferentes maneiras. Vamos usar um exemplo simples para ilustrarmos isso.\n",
    "        </li>\n",
    "    </ul>\n",
    "</div>"
   ]
  },
  {
   "cell_type": "markdown",
   "id": "70c56796-dbe7-4b8d-ba6b-391e887e4853",
   "metadata": {},
   "source": [
    "<center style='font-size:20px'> \n",
    "    $$\\begin{cases}\n",
    "        x-2y=1\\\\\n",
    "        3x+2y=11\n",
    "    \\end{cases}\n",
    "    $$\n",
    "</center>"
   ]
  },
  {
   "cell_type": "markdown",
   "id": "ff6e0c23-d51d-4986-b95a-ac12e431d487",
   "metadata": {},
   "source": [
    " <center style='font-size:20px;margin-top:20px'> \n",
    "        <figure>\n",
    "            $$x \\begin{bmatrix}1\\\\3\\end{bmatrix}+y\\begin{bmatrix}-2\\\\2\\end{bmatrix}=\\begin{bmatrix}1\\\\11\\end{bmatrix}$$\n",
    "            <figcaption style='font-size:15px'> Note que podemos representar o sistema de equações como uma combinação linear, também! </figcaption>\n",
    "        </figure>\n",
    "    </center>"
   ]
  },
  {
   "cell_type": "markdown",
   "id": "8dc01913-99bc-44f9-bc07-ca04e1b01e41",
   "metadata": {},
   "source": [
    " <center style='font-size:20px;margin-top:20px'> \n",
    "        <figure>\n",
    "            $$\\begin{bmatrix}1 & -2\\\\ 3  & 2\\end{bmatrix} \\begin{bmatrix}x\\\\y\\end{bmatrix}=\\begin{bmatrix}1\\\\11\\end{bmatrix}$$\n",
    "            <figcaption style='font-size:15px'> O sistema ainda pode ser escrito como uma multiplicação de uma matriz com um vetor.</figcaption>\n",
    "        </figure>\n",
    "    </center>"
   ]
  },
  {
   "cell_type": "markdown",
   "id": "b8ed92b2-88b7-4f54-841d-305714ac45dd",
   "metadata": {},
   "source": [
    " <center style='margin-top:20px'> \n",
    "        <figure>\n",
    "            <img src='img/01_system_plane.png'>\n",
    "            <figcaption> Observe que a solução do sistema $(3,1)$ é justamente a interseção das retas.</figcaption>\n",
    "        </figure>\n",
    "    </center>"
   ]
  },
  {
   "cell_type": "markdown",
   "id": "1bc44b50-d52b-4a0e-8317-9d68c93c56a0",
   "metadata": {},
   "source": [
    "<h3 style='font-size:30px;font-style:italic'> Three Equations in Three Unknowns</h3>\n",
    "<div> \n",
    "    <ul style='font-size:20px'>\n",
    "        <li> \n",
    "            No momento, vamos tentar solucionar sistemas em que a quantidade de equações é a mesma de variáveis. Nesse tipo de problema, costuma-se haver uma única solução.\n",
    "        </li>\n",
    "     </ul>\n",
    "</div>"
   ]
  },
  {
   "cell_type": "markdown",
   "id": "f75f86c6-f8fc-4884-b32a-9f4689b9fedc",
   "metadata": {},
   "source": [
    "<h3 style='font-size:30px;font-style:italic'>The Matrix Form of the Equations</h3>\n",
    "<div> \n",
    "    <ul style='font-size:20px'>\n",
    "        <li> \n",
    "            Aqui é ensinado como devemos efetuar a multiplicação entre uma matriz $A$ com um vetor $x$. Deveremos efetuar um dot product entre cada vetor-linha de $A$ com $x$, dando origem a um dos componentes de $b$.\n",
    "        </li>\n",
    "     </ul>\n",
    "</div>"
   ]
  },
  {
   "cell_type": "markdown",
   "id": "01b2fd9c-f0e9-4325-a14e-95dfdd84e1a4",
   "metadata": {},
   "source": [
    " <center style='font-size:20px;margin-top:20px'> \n",
    "        <figure>\n",
    "            $$Ax=\\begin{bmatrix}\\text{row 1}\\cdot{x} \\\\\n",
    "                  \\text{row 2}\\cdot{x} \\\\\n",
    "                  \\text{row 3}\\cdot{x}\n",
    "            \\end{bmatrix}=b$$\n",
    "            <figcaption style='font-size:15px'> Ilustração da multiplicação entre $A$ e $x$.</figcaption>\n",
    "        </figure>\n",
    "    </center>"
   ]
  },
  {
   "cell_type": "markdown",
   "id": "816db2d8-2d00-4109-b578-a08fe0b40a48",
   "metadata": {},
   "source": [
    "<h4 style='font-size:30px;font-style:italic;text-decoration:underline'> Matriz Identidade</h4>\n",
    "<div> \n",
    "    <ul style='font-size:20px'> \n",
    "        <li> \n",
    "            A matriz identidade é uma espécie de matriz quadrada cuja diagonal principal é constituída de 1's, enquanto que todos os demais componentes são 0's. \n",
    "        </li>\n",
    "        <li>\n",
    "            Quando a multiplicamos com um vetor, o resultado da operação será o próprio vetor.\n",
    "        </li>\n",
    "    </ul>\n",
    "</div>"
   ]
  },
  {
   "cell_type": "code",
   "execution_count": 12,
   "id": "5235bf87-5fdf-4133-ba71-c8a9247a1ec8",
   "metadata": {},
   "outputs": [
    {
     "name": "stdout",
     "output_type": "stream",
     "text": [
      "Identity:\n",
      " [[1. 0. 0. 0.]\n",
      " [0. 1. 0. 0.]\n",
      " [0. 0. 1. 0.]\n",
      " [0. 0. 0. 1.]] \n",
      "\n",
      "x:\n",
      " [1. 2. 3. 4.]\n"
     ]
    }
   ],
   "source": [
    "# Realizando um breve exemplo com um vetor de 4 componentes.\n",
    "import numpy as np\n",
    "\n",
    "I = np.identity(4)\n",
    "x = np.linspace(1, 4, 4)\n",
    "\n",
    "print('Identity:\\n', I, '\\n\\nx:\\n', x)"
   ]
  },
  {
   "cell_type": "code",
   "execution_count": 13,
   "id": "f25fa407-f665-4993-9d86-47fac855fae4",
   "metadata": {},
   "outputs": [
    {
     "data": {
      "text/plain": [
       "array([1., 2., 3., 4.])"
      ]
     },
     "execution_count": 13,
     "metadata": {},
     "output_type": "execute_result"
    }
   ],
   "source": [
    "# Observe que o produto da multiplicação é o próprio x.\n",
    "np.matmul(I,x)"
   ]
  },
  {
   "cell_type": "markdown",
   "id": "4ef935b7-e4e3-456f-ae8b-e67c2d161f37",
   "metadata": {},
   "source": [
    "<h3 style='font-size:30px;font-style:italic'> Matrix Notation</h3>\n",
    "<div> \n",
    "    <ul style='font-size:20px'>\n",
    "        <li> \n",
    "            Um componente específico de uma matriz $A$ pode ser identificado como $a_{ij}$, ou $A(i,j)$. $i$ se refere à numeração da linha, enquanto que $j$ da coluna em que o dado número se encontra.\n",
    "        </li>\n",
    "     </ul>\n",
    "</div>"
   ]
  },
  {
   "cell_type": "code",
   "execution_count": 4,
   "id": "7e141d4c-f9d1-4280-86d7-d19112d0ad4b",
   "metadata": {},
   "outputs": [
    {
     "name": "stdout",
     "output_type": "stream",
     "text": [
      "[master 75ad99d] Continuar de The Matrix Form of the Equations (p.47)\n",
      " 1 file changed, 63 insertions(+), 7 deletions(-)\n",
      "Enumerating objects: 5, done.\n",
      "Counting objects: 100% (5/5), done.\n",
      "Delta compression using up to 24 threads\n",
      "Compressing objects: 100% (3/3), done.\n",
      "Writing objects: 100% (3/3), 1.30 KiB | 1.30 MiB/s, done.\n",
      "Total 3 (delta 2), reused 0 (delta 0), pack-reused 0\n",
      "remote: Resolving deltas: 100% (2/2), completed with 2 local objects.\u001b[K\n",
      "To https://github.com/felipesveiga/linear-algebra.git\n",
      "   c7e2ac6..75ad99d  master -> master\n"
     ]
    }
   ],
   "source": [
    "! git add .\n",
    "! git commit -am 'Fazer Worked Examples'\n",
    "! git push"
   ]
  },
  {
   "cell_type": "markdown",
   "id": "c1438d63-72d8-442a-947d-d1e74c6292cf",
   "metadata": {},
   "source": [
    "<p style='color:red'>  Vi  de The Matrix Form of the Equations a Matrix Notation; Fazer Worked Examples\n",
    "</p>"
   ]
  }
 ],
 "metadata": {
  "kernelspec": {
   "display_name": "Python 3 (ipykernel)",
   "language": "python",
   "name": "python3"
  },
  "language_info": {
   "codemirror_mode": {
    "name": "ipython",
    "version": 3
   },
   "file_extension": ".py",
   "mimetype": "text/x-python",
   "name": "python",
   "nbconvert_exporter": "python",
   "pygments_lexer": "ipython3",
   "version": "3.10.12"
  }
 },
 "nbformat": 4,
 "nbformat_minor": 5
}

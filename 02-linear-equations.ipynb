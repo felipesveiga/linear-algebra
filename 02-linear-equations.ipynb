{
 "cells": [
  {
   "cell_type": "markdown",
   "id": "2032f00c-033c-46b7-8bcb-9e2565fb8114",
   "metadata": {},
   "source": [
    "## <h1 style='font-size:40px'> Solving Linear Equations </h1>"
   ]
  },
  {
   "cell_type": "markdown",
   "id": "7fb11c88-1558-4668-94f3-8f4eca1a411e",
   "metadata": {
    "jp-MarkdownHeadingCollapsed": true
   },
   "source": [
    "<h2 style='font-size:30px'> 2.1\n",
    "Vectors and Linear Equations</h2>\n",
    "<div> \n",
    "    <ul style='font-size:20px'> \n",
    "        <li> \n",
    "            O problema central da Álgebra Linear é a solução de sistemas de equações, sendo estas, muitas vezes, lineares. Por \"linear\", entenda, que as variáveis são somente multiplicadas por coeficientes.\n",
    "        </li>\n",
    "        <li>\n",
    "            Sistemas de Equações buscam, nada mais, do que o ponto no plano em que as equações de todas as linhas intercedem.\n",
    "        </li>\n",
    "    </ul>\n",
    "</div>"
   ]
  },
  {
   "cell_type": "markdown",
   "id": "e30efed7-537a-42f0-8517-ac3fa61ce7c9",
   "metadata": {},
   "source": [
    "<h4 style='font-size:30px;font-style:italic;text-decoration:underline'> Exemplo</h4>\n",
    "<div> \n",
    "    <ul style='font-size:20px'> \n",
    "        <li> \n",
    "            Um sistema de equações pode ser representado de diferentes maneiras. Vamos usar um exemplo simples para ilustrarmos isso.\n",
    "        </li>\n",
    "    </ul>\n",
    "</div>"
   ]
  },
  {
   "cell_type": "markdown",
   "id": "70c56796-dbe7-4b8d-ba6b-391e887e4853",
   "metadata": {},
   "source": [
    "<center style='font-size:20px'> \n",
    "    $$\\begin{cases}\n",
    "        x-2y=1\\\\\n",
    "        3x+2y=11\n",
    "    \\end{cases}\n",
    "    $$\n",
    "</center>"
   ]
  },
  {
   "cell_type": "markdown",
   "id": "ff6e0c23-d51d-4986-b95a-ac12e431d487",
   "metadata": {},
   "source": [
    " <center style='font-size:20px;margin-top:20px'> \n",
    "        <figure>\n",
    "            $$x \\begin{bmatrix}1\\\\3\\end{bmatrix}+y\\begin{bmatrix}-2\\\\2\\end{bmatrix}=\\begin{bmatrix}1\\\\11\\end{bmatrix}$$\n",
    "            <figcaption style='font-size:15px'> Note que podemos representar o sistema de equações como uma combinação linear, também! </figcaption>\n",
    "        </figure>\n",
    "    </center>"
   ]
  },
  {
   "cell_type": "markdown",
   "id": "8dc01913-99bc-44f9-bc07-ca04e1b01e41",
   "metadata": {},
   "source": [
    " <center style='font-size:20px;margin-top:20px'> \n",
    "        <figure>\n",
    "            $$\\begin{bmatrix}1 & -2\\\\ 3  & 2\\end{bmatrix} \\begin{bmatrix}x\\\\y\\end{bmatrix}=\\begin{bmatrix}1\\\\11\\end{bmatrix}$$\n",
    "            <figcaption style='font-size:15px'> O sistema ainda pode ser escrito como uma multiplicação de uma matriz com um vetor.</figcaption>\n",
    "        </figure>\n",
    "    </center>"
   ]
  },
  {
   "cell_type": "markdown",
   "id": "b8ed92b2-88b7-4f54-841d-305714ac45dd",
   "metadata": {},
   "source": [
    " <center style='margin-top:20px'> \n",
    "        <figure>\n",
    "            <img src='img/01_system_plane.png'>\n",
    "            <figcaption> Observe que a solução do sistema $(3,1)$ é justamente a interseção das retas.</figcaption>\n",
    "        </figure>\n",
    "    </center>"
   ]
  },
  {
   "cell_type": "markdown",
   "id": "1bc44b50-d52b-4a0e-8317-9d68c93c56a0",
   "metadata": {},
   "source": [
    "<h3 style='font-size:30px;font-style:italic'> Three Equations in Three Unknowns</h3>\n",
    "<div> \n",
    "    <ul style='font-size:20px'>\n",
    "        <li> \n",
    "            No momento, vamos tentar solucionar sistemas em que a quantidade de equações é a mesma de variáveis. Nesse tipo de problema, costuma-se haver uma única solução.\n",
    "        </li>\n",
    "     </ul>\n",
    "</div>"
   ]
  },
  {
   "cell_type": "markdown",
   "id": "f75f86c6-f8fc-4884-b32a-9f4689b9fedc",
   "metadata": {},
   "source": [
    "<h3 style='font-size:30px;font-style:italic'>The Matrix Form of the Equations</h3>\n",
    "<div> \n",
    "    <ul style='font-size:20px'>\n",
    "        <li> \n",
    "            Aqui é ensinado como devemos efetuar a multiplicação entre uma matriz $A$ com um vetor $x$. Deveremos efetuar um dot product entre cada vetor-linha de $A$ com $x$, dando origem a um dos componentes de $b$.\n",
    "        </li>\n",
    "     </ul>\n",
    "</div>"
   ]
  },
  {
   "cell_type": "markdown",
   "id": "01b2fd9c-f0e9-4325-a14e-95dfdd84e1a4",
   "metadata": {},
   "source": [
    " <center style='font-size:20px;margin-top:20px'> \n",
    "        <figure>\n",
    "            $$Ax=\\begin{bmatrix}\\text{row 1}\\cdot{x} \\\\\n",
    "                  \\text{row 2}\\cdot{x} \\\\\n",
    "                  \\text{row 3}\\cdot{x}\n",
    "            \\end{bmatrix}=b$$\n",
    "            <figcaption style='font-size:15px'> Ilustração da multiplicação entre $A$ e $x$.</figcaption>\n",
    "        </figure>\n",
    "    </center>"
   ]
  },
  {
   "cell_type": "markdown",
   "id": "816db2d8-2d00-4109-b578-a08fe0b40a48",
   "metadata": {},
   "source": [
    "<h4 style='font-size:30px;font-style:italic;text-decoration:underline'> Matriz Identidade</h4>\n",
    "<div> \n",
    "    <ul style='font-size:20px'> \n",
    "        <li> \n",
    "            A matriz identidade é uma espécie de matriz quadrada cuja diagonal principal é constituída de 1's, enquanto que todos os demais componentes são 0's. \n",
    "        </li>\n",
    "        <li>\n",
    "            Quando a multiplicamos com um vetor, o resultado da operação será o próprio vetor.\n",
    "        </li>\n",
    "    </ul>\n",
    "</div>"
   ]
  },
  {
   "cell_type": "code",
   "execution_count": 12,
   "id": "5235bf87-5fdf-4133-ba71-c8a9247a1ec8",
   "metadata": {},
   "outputs": [
    {
     "name": "stdout",
     "output_type": "stream",
     "text": [
      "Identity:\n",
      " [[1. 0. 0. 0.]\n",
      " [0. 1. 0. 0.]\n",
      " [0. 0. 1. 0.]\n",
      " [0. 0. 0. 1.]] \n",
      "\n",
      "x:\n",
      " [1. 2. 3. 4.]\n"
     ]
    }
   ],
   "source": [
    "# Realizando um breve exemplo com um vetor de 4 componentes.\n",
    "import numpy as np\n",
    "\n",
    "I = np.identity(4)\n",
    "x = np.linspace(1, 4, 4)\n",
    "\n",
    "print('Identity:\\n', I, '\\n\\nx:\\n', x)"
   ]
  },
  {
   "cell_type": "code",
   "execution_count": 13,
   "id": "f25fa407-f665-4993-9d86-47fac855fae4",
   "metadata": {},
   "outputs": [
    {
     "data": {
      "text/plain": [
       "array([1., 2., 3., 4.])"
      ]
     },
     "execution_count": 13,
     "metadata": {},
     "output_type": "execute_result"
    }
   ],
   "source": [
    "# Observe que o produto da multiplicação é o próprio x.\n",
    "np.matmul(I,x)"
   ]
  },
  {
   "cell_type": "markdown",
   "id": "4ef935b7-e4e3-456f-ae8b-e67c2d161f37",
   "metadata": {},
   "source": [
    "<h3 style='font-size:30px;font-style:italic'> Matrix Notation</h3>\n",
    "<div> \n",
    "    <ul style='font-size:20px'>\n",
    "        <li> \n",
    "            Um componente específico de uma matriz $A$ pode ser identificado como $a_{ij}$, ou $A(i,j)$. $i$ se refere à numeração da linha, enquanto que $j$ da coluna em que o dado número se encontra.\n",
    "        </li>\n",
    "     </ul>\n",
    "</div>"
   ]
  },
  {
   "cell_type": "markdown",
   "id": "a06daa6d-dc13-404c-8cfe-434ade970982",
   "metadata": {},
   "source": [
    "<h3 style='font-size:30px;font-style:italic'> Comprovando a Viabilidade de um Sistema de Equações</h3>\n",
    "<div> \n",
    "    <ul style='font-size:20px'>\n",
    "        <li> \n",
    "            Um sistema de equações que tenha solução possui algum vetor $y$ que, quando multiplicado por cada vetor-coluna de $A$ gera o vetor $0$. Da mesma forma, o produto escalar com $b$ deve se resultar em $0$, também.\n",
    "        </li>\n",
    "        <li>\n",
    "            Vamos descobrir a viabilidade de uma solução para o sistema abaixo.\n",
    "        </li>\n",
    "     </ul>\n",
    "</div>"
   ]
  },
  {
   "cell_type": "markdown",
   "id": "980be1cf-f659-4e3a-8840-5b4752f28200",
   "metadata": {},
   "source": [
    "<center style='font-size:20px;margin-top:20px'> \n",
    "                 $$\n",
    "                \\begin{bmatrix} \n",
    "                1 & 3 & 5 \\\\\n",
    "                1 & 2 & -3 \\\\\n",
    "                2 & 5 & 2\n",
    "                \\end{bmatrix}\n",
    "                \\begin{bmatrix} \n",
    "                x \\\\\n",
    "                y \\\\\n",
    "                z\n",
    "                \\end{bmatrix} \n",
    "                =\n",
    "                \\begin{bmatrix} \n",
    "                4 \\\\\n",
    "                5 \\\\\n",
    "                8\n",
    "                \\end{bmatrix} \n",
    "                $$\n",
    "</center>"
   ]
  },
  {
   "cell_type": "code",
   "execution_count": 1,
   "id": "d4a6a934-c69e-4753-bfd8-a73825869481",
   "metadata": {},
   "outputs": [],
   "source": [
    "import numpy as np\n",
    "A = np.array([[1,3,5], [1,2,-3], [2,5,2]])\n",
    "b = np.array([4,5,8])"
   ]
  },
  {
   "cell_type": "code",
   "execution_count": 4,
   "id": "efdc425b-54fb-4fc6-b1bf-c8bb9a34645a",
   "metadata": {},
   "outputs": [
    {
     "data": {
      "text/plain": [
       "(array([0, 0, 0]), 1)"
      ]
     },
     "execution_count": 4,
     "metadata": {},
     "output_type": "execute_result"
    }
   ],
   "source": [
    "# Observe que, multiplicando cada vetor-coluna de A com (1,1,-1), ficamos com (0,0,0).\n",
    "# Já o produto escalar desse vetor com b resulta em 1. Portanto, podemos dizer que esse\n",
    "# sistema não tem solução.\n",
    "\n",
    "y = np.array([1,1,-1])\n",
    "np.matmul(A.T,y), np.dot(y,b)"
   ]
  },
  {
   "cell_type": "code",
   "execution_count": 15,
   "id": "7e141d4c-f9d1-4280-86d7-d19112d0ad4b",
   "metadata": {},
   "outputs": [
    {
     "name": "stdout",
     "output_type": "stream",
     "text": [
      "[master c4206fb] Fazer item 3 do Ex. 2.1 B\n",
      " 1 file changed, 9 insertions(+), 9 deletions(-)\n",
      "Enumerating objects: 5, done.\n",
      "Counting objects: 100% (5/5), done.\n",
      "Delta compression using up to 24 threads\n",
      "Compressing objects: 100% (3/3), done.\n",
      "Writing objects: 100% (3/3), 422 bytes | 422.00 KiB/s, done.\n",
      "Total 3 (delta 2), reused 0 (delta 0), pack-reused 0\n",
      "remote: Resolving deltas: 100% (2/2), completed with 2 local objects.\u001b[K\n",
      "To https://github.com/felipesveiga/linear-algebra.git\n",
      "   999a669..c4206fb  master -> master\n"
     ]
    }
   ],
   "source": [
    "! git add .\n",
    "! git commit -am 'Fazer alguns dos exs 15-22 da seção 2.1'\n",
    "! git push"
   ]
  },
  {
   "cell_type": "markdown",
   "id": "c1438d63-72d8-442a-947d-d1e74c6292cf",
   "metadata": {},
   "source": [
    "<p style='color:red'>  Terminei Worked Examples da seção 2.1; Falei sobre Análise de Viabilidade de Sistemas de Equações; Fazer alguns dos exs 15-22 da seção 2.1\n",
    "</p>"
   ]
  }
 ],
 "metadata": {
  "kernelspec": {
   "display_name": "Python 3 (ipykernel)",
   "language": "python",
   "name": "python3"
  },
  "language_info": {
   "codemirror_mode": {
    "name": "ipython",
    "version": 3
   },
   "file_extension": ".py",
   "mimetype": "text/x-python",
   "name": "python",
   "nbconvert_exporter": "python",
   "pygments_lexer": "ipython3",
   "version": "3.10.12"
  }
 },
 "nbformat": 4,
 "nbformat_minor": 5
}

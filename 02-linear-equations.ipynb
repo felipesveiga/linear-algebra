{
 "cells": [
  {
   "cell_type": "markdown",
   "id": "654823a1-05a6-492e-baab-3bcb14a9255c",
   "metadata": {},
   "source": [
    "<h1 style='font-size:40px'> Solving Linear Equations </h1>\n",
    "<div> \n",
    "    <ul style='font-size:20px'> \n",
    "        <li> \n",
    "        </li>\n",
    "    </ul>\n",
    "</div>"
   ]
  },
  {
   "cell_type": "markdown",
   "id": "5a415927-66bb-46ab-9137-9aef2ad97914",
   "metadata": {},
   "source": [
    "<h2 style='font-size:30px'> 2.1\n",
    "Vectors and Linear Equations</h2>"
   ]
  },
  {
   "cell_type": "code",
   "execution_count": 4,
   "id": "7e141d4c-f9d1-4280-86d7-d19112d0ad4b",
   "metadata": {},
   "outputs": [
    {
     "name": "stdout",
     "output_type": "stream",
     "text": [
      "[master feadcab] Continuar de Linear Equations\n",
      " 1 file changed, 22 insertions(+), 7 deletions(-)\n",
      "Enumerating objects: 5, done.\n",
      "Counting objects: 100% (5/5), done.\n",
      "Delta compression using up to 24 threads\n",
      "Compressing objects: 100% (3/3), done.\n",
      "Writing objects: 100% (3/3), 629 bytes | 629.00 KiB/s, done.\n",
      "Total 3 (delta 1), reused 0 (delta 0), pack-reused 0\n",
      "remote: Resolving deltas: 100% (1/1), completed with 1 local object.\u001b[K\n",
      "To https://github.com/felipesveiga/linear-algebra.git\n",
      "   c36e785..feadcab  master -> master\n"
     ]
    }
   ],
   "source": [
    "! git add .\n",
    "! git commit -am 'Iniciar Capítulo 2'\n",
    "! git push"
   ]
  },
  {
   "cell_type": "markdown",
   "id": "c1438d63-72d8-442a-947d-d1e74c6292cf",
   "metadata": {},
   "source": [
    "<p style='color:red'>  Vi Cyclic Differences e Independence and Dependence; Iniciar Capítulo 2\n",
    "</p>"
   ]
  }
 ],
 "metadata": {
  "kernelspec": {
   "display_name": "Python 3 (ipykernel)",
   "language": "python",
   "name": "python3"
  },
  "language_info": {
   "codemirror_mode": {
    "name": "ipython",
    "version": 3
   },
   "file_extension": ".py",
   "mimetype": "text/x-python",
   "name": "python",
   "nbconvert_exporter": "python",
   "pygments_lexer": "ipython3",
   "version": "3.10.12"
  }
 },
 "nbformat": 4,
 "nbformat_minor": 5
}

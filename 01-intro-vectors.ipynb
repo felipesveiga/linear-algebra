{
 "cells": [
  {
   "cell_type": "markdown",
   "id": "f1d83e0a-0f62-4def-9cc8-1c6a1a74c1d4",
   "metadata": {},
   "source": [
    "<h1 style='font-size:40px'> Introduction to Vectors </h1>\n",
    "<div> \n",
    "    <ul style='font-size:20px'> \n",
    "        <li> \n",
    "            Aprenderemos aqui a lidar com vetores e algumas operações elementares da Álgebra Linear.\n",
    "        </li>\n",
    "    </ul>\n",
    "</div>"
   ]
  },
  {
   "cell_type": "markdown",
   "id": "8889879b-3b3c-4dc6-a9de-1f4e1b316d6c",
   "metadata": {},
   "source": [
    "<h2 style='font-size:30px'> 1.1 Vectors and Linear Combinations</h2>"
   ]
  },
  {
   "cell_type": "markdown",
   "id": "bd83b667-cf35-4f18-a719-27d1530f849c",
   "metadata": {},
   "source": [
    "<h3 style='font-size:30px;font-style:italic'> Vector Addition</h3>\n",
    "<div> \n",
    "    <ul style='font-size:20px'>\n",
    "        <li> \n",
    "            Consiste na soma dos elementos de vetores de mesma dimensionalidade:\n",
    "            <center style='margin-top:20px'> \n",
    "                    $$v=\\begin{bmatrix}\n",
    "                        v_1 \\\\ \n",
    "                        v_2\n",
    "                        \\end{bmatrix};\\text{ }\n",
    "                    w=\\begin{bmatrix}\n",
    "                        w_1 \\\\ \n",
    "                        w_2\n",
    "                        \\end{bmatrix}\n",
    "                    $$\n",
    "            </center>\n",
    "            <center style='margin-top:20px'> \n",
    "                $$\n",
    "                    v+w=\n",
    "                    \\begin{bmatrix}\n",
    "                        v_1+w_1\\\\ \n",
    "                        v_2+w_2\n",
    "                        \\end{bmatrix}\n",
    "                $$\n",
    "            </center>\n",
    "        </li>\n",
    "     </ul>\n",
    "</div>"
   ]
  },
  {
   "cell_type": "markdown",
   "id": "c5a383df-8288-43d0-951e-7063696e0bb2",
   "metadata": {},
   "source": [
    " <center style='margin-top:20px'> \n",
    "        <figure>\n",
    "            <img src='img/01_sum.png'>\n",
    "            <figcaption> Observe que o vetor soma forma a diagonal do retângulo formado pelos vetores $v$ e $w$ e suas projeções.</figcaption>\n",
    "        </figure>\n",
    "    </center>"
   ]
  },
  {
   "cell_type": "markdown",
   "id": "727ded7f-387f-4b88-b37b-b65c1c352ffd",
   "metadata": {},
   "source": [
    "<h3 style='font-size:30px;font-style:italic'> Scalar Multiplication</h3>\n",
    "<div> \n",
    "    <ul style='font-size:20px'>\n",
    "        <li> \n",
    "            Consiste em multiplicar todos os componentes de um vetor por um valor escalar.\n",
    "            <center style='margin-top:20px'> \n",
    "                    $$2v=\\begin{bmatrix}\n",
    "                        2v_1 \\\\ \n",
    "                        2v_2\n",
    "                        \\end{bmatrix}\n",
    "                        = v+v\n",
    "                    $$\n",
    "            </center>\n",
    "        </li>\n",
    "     </ul>\n",
    "</div>"
   ]
  },
  {
   "cell_type": "markdown",
   "id": "0a5f0ed2-50e5-4915-9823-81bedcc44d7d",
   "metadata": {},
   "source": [
    "<h3 style='font-size:30px;font-style:italic'> Linear Combination</h3>\n",
    "<div> \n",
    "    <ul style='font-size:20px'>\n",
    "        <li> \n",
    "            A combinação linear consiste na soma das multiplicações escalares de dois vetores.\n",
    "            <center style='margin-top:20px'> \n",
    "                    $$cv+dw\n",
    "                    $$\n",
    "            </center>\n",
    "        </li>\n",
    "     </ul>\n",
    "</div>"
   ]
  },
  {
   "cell_type": "markdown",
   "id": "fe69ae93-47f4-4b37-a1f1-a529e695ee2f",
   "metadata": {},
   "source": [
    "<h3 style='font-size:30px;font-style:italic;color:red'> Aviso</h3>\n",
    "<div> \n",
    "    <ul style='font-size:20px'>\n",
    "        <li> \n",
    "            Para menor ocupação de espaço, o livro representará vetores-coluna numa única linha entre parênteses.\n",
    "            <center style='margin-top:20px'> \n",
    "                    $$\n",
    "                        \\begin{bmatrix}\n",
    "                        v_1 \\\\\n",
    "                        v_2\n",
    "                        \\end{bmatrix}=(v_1, v_2)\n",
    "                    $$\n",
    "            </center>\n",
    "        </li>\n",
    "     </ul>\n",
    "</div>"
   ]
  },
  {
   "cell_type": "markdown",
   "id": "a546e68d-68ff-4c82-960c-f6e83ede8adf",
   "metadata": {},
   "source": [
    "<h2 style='font-size:30px'> 1.2\n",
    "Lengths and Dot Products</h2>\n",
    "<div> \n",
    "    <ul style='font-size:20px'>\n",
    "        <li> \n",
    "            Aprenderemos nesta seção conceitos fundamentais da Álgebra Linear, como a similaridade cosseno e o dot product.\n",
    "        </li>\n",
    "     </ul>\n",
    "</div>"
   ]
  },
  {
   "cell_type": "markdown",
   "id": "3e256c1e-6a78-4815-a27b-4596d24fd971",
   "metadata": {},
   "source": [
    "<h3 style='font-size:30px;font-style:italic'> Dot Product</h3>\n",
    "<div> \n",
    "    <ul style='font-size:20px'>\n",
    "        <li> \n",
    "            O produto escalar consiste na soma dos produtos entre elementos de mesma posição de dois vetores.\n",
    "            <center style='margin-top:20px'> \n",
    "                    $v\\cdot w=\\sum_{i=1}^{N}{v_{i}w_{i}}$\n",
    "            </center>\n",
    "        </li>\n",
    "        <li style='margin-top:20px'>\n",
    "            Vale a pena lembrar que caso o produto escalar seja 0, o ângulo entre esses vetores será de 90 graus. \n",
    "        </li>\n",
    "     </ul>\n",
    "</div>"
   ]
  },
  {
   "cell_type": "markdown",
   "id": "9250a719-9a98-4b7b-a8b7-7a914d41074e",
   "metadata": {},
   "source": [
    "<h3 style='font-size:30px;font-style:italic'>  Length and Unit Vectors</h3>\n",
    "<div> \n",
    "    <ul style='font-size:20px'>\n",
    "        <li> \n",
    "            O comprimento de um vetor ||v|| é tido como a raiz quadrada do produto escalar dele com ele mesmo.\n",
    "        </li>\n",
    "        <li>\n",
    "            <i>Nota</i>: todo o vetor cujo comprimento seja 1 é considerado um vetor unitário\n",
    "        </li>\n",
    "     </ul>\n",
    "</div>"
   ]
  },
  {
   "cell_type": "code",
   "execution_count": 4,
   "id": "fdc906f2-cfb0-4339-a09a-ed75e1e43818",
   "metadata": {},
   "outputs": [
    {
     "name": "stdout",
     "output_type": "stream",
     "text": [
      "[master 032a08d] Fazer Example IV\n",
      " 1 file changed, 29 insertions(+), 12 deletions(-)\n",
      "Enumerating objects: 5, done.\n",
      "Counting objects: 100% (5/5), done.\n",
      "Delta compression using up to 24 threads\n",
      "Compressing objects: 100% (3/3), done.\n",
      "Writing objects: 100% (3/3), 779 bytes | 779.00 KiB/s, done.\n",
      "Total 3 (delta 1), reused 0 (delta 0), pack-reused 0\n",
      "remote: Resolving deltas: 100% (1/1), completed with 1 local object.\u001b[K\n",
      "To https://github.com/felipesveiga/linear-algebra.git\n",
      "   d8db65c..032a08d  master -> master\n"
     ]
    }
   ],
   "source": [
    "! git add .\n",
    "! git commit -am 'Fazer Example IV'\n",
    "! git push"
   ]
  },
  {
   "cell_type": "markdown",
   "id": "bacc3ce8-6338-4b6e-954e-933b0002bd3b",
   "metadata": {},
   "source": [
    "<p style='color:red'>  Iniciei seção Length and Unit Vectors; Fazer Example IV\n",
    "</p>"
   ]
  }
 ],
 "metadata": {
  "kernelspec": {
   "display_name": "Python 3 (ipykernel)",
   "language": "python",
   "name": "python3"
  },
  "language_info": {
   "codemirror_mode": {
    "name": "ipython",
    "version": 3
   },
   "file_extension": ".py",
   "mimetype": "text/x-python",
   "name": "python",
   "nbconvert_exporter": "python",
   "pygments_lexer": "ipython3",
   "version": "3.10.12"
  }
 },
 "nbformat": 4,
 "nbformat_minor": 5
}

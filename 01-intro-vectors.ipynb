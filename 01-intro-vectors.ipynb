{
 "cells": [
  {
   "cell_type": "markdown",
   "id": "f1d83e0a-0f62-4def-9cc8-1c6a1a74c1d4",
   "metadata": {},
   "source": [
    "<h1 style='font-size:40px'> Introduction to Vectors </h1>\n",
    "<div> \n",
    "    <ul style='font-size:20px'> \n",
    "        <li> \n",
    "            Aprenderemos aqui a lidar com vetores e algumas operações elementares da Álgebra Linear.\n",
    "        </li>\n",
    "    </ul>\n",
    "</div>"
   ]
  },
  {
   "cell_type": "markdown",
   "id": "8889879b-3b3c-4dc6-a9de-1f4e1b316d6c",
   "metadata": {},
   "source": [
    "<h2 style='font-size:30px'> 1.1 Vectors and Linear Combinations</h2>"
   ]
  },
  {
   "cell_type": "markdown",
   "id": "bd83b667-cf35-4f18-a719-27d1530f849c",
   "metadata": {},
   "source": [
    "<h3 style='font-size:30px;font-style:italic'> Vector Addition</h3>\n",
    "<div> \n",
    "    <ul style='font-size:20px'>\n",
    "        <li> \n",
    "            Consiste na soma dos elementos de vetores de mesma dimensionalidade:\n",
    "            <center style='margin-top:20px'> \n",
    "                    $$v=\\begin{bmatrix}\n",
    "                        v_1 \\\\ \n",
    "                        v_2\n",
    "                        \\end{bmatrix};\\text{ }\n",
    "                    w=\\begin{bmatrix}\n",
    "                        w_1 \\\\ \n",
    "                        w_2\n",
    "                        \\end{bmatrix}\n",
    "                    $$\n",
    "            </center>\n",
    "            <center style='margin-top:20px'> \n",
    "                $$\n",
    "                    v+w=\n",
    "                    \\begin{bmatrix}\n",
    "                        v_1+w_1\\\\ \n",
    "                        v_2+w_2\n",
    "                        \\end{bmatrix}\n",
    "                $$\n",
    "            </center>\n",
    "        </li>\n",
    "     </ul>\n",
    "</div>"
   ]
  }
 ],
 "metadata": {
  "kernelspec": {
   "display_name": "Python 3 (ipykernel)",
   "language": "python",
   "name": "python3"
  },
  "language_info": {
   "codemirror_mode": {
    "name": "ipython",
    "version": 3
   },
   "file_extension": ".py",
   "mimetype": "text/x-python",
   "name": "python",
   "nbconvert_exporter": "python",
   "pygments_lexer": "ipython3",
   "version": "3.10.12"
  }
 },
 "nbformat": 4,
 "nbformat_minor": 5
}

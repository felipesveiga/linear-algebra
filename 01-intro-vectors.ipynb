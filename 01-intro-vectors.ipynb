{
 "cells": [
  {
   "cell_type": "markdown",
   "id": "f1d83e0a-0f62-4def-9cc8-1c6a1a74c1d4",
   "metadata": {},
   "source": [
    "<h1 style='font-size:40px'> Introduction to Vectors </h1>\n",
    "<div> \n",
    "    <ul style='font-size:20px'> \n",
    "        <li> \n",
    "            Aprenderemos aqui a lidar com vetores e algumas operações elementares da Álgebra Linear.\n",
    "        </li>\n",
    "    </ul>\n",
    "</div>"
   ]
  },
  {
   "cell_type": "markdown",
   "id": "8889879b-3b3c-4dc6-a9de-1f4e1b316d6c",
   "metadata": {},
   "source": [
    "<h2 style='font-size:30px'> 1.1 Vectors and Linear Combinations</h2>"
   ]
  },
  {
   "cell_type": "markdown",
   "id": "bd83b667-cf35-4f18-a719-27d1530f849c",
   "metadata": {},
   "source": [
    "<h3 style='font-size:30px;font-style:italic'> Vector Addition</h3>\n",
    "<div> \n",
    "    <ul style='font-size:20px'>\n",
    "        <li> \n",
    "            Consiste na soma dos elementos de vetores de mesma dimensionalidade:\n",
    "            <center style='margin-top:20px'> \n",
    "                    $$v=\\begin{bmatrix}\n",
    "                        v_1 \\\\ \n",
    "                        v_2\n",
    "                        \\end{bmatrix};\\text{ }\n",
    "                    w=\\begin{bmatrix}\n",
    "                        w_1 \\\\ \n",
    "                        w_2\n",
    "                        \\end{bmatrix}\n",
    "                    $$\n",
    "            </center>\n",
    "            <center style='margin-top:20px'> \n",
    "                $$\n",
    "                    v+w=\n",
    "                    \\begin{bmatrix}\n",
    "                        v_1+w_1\\\\ \n",
    "                        v_2+w_2\n",
    "                        \\end{bmatrix}\n",
    "                $$\n",
    "            </center>\n",
    "        </li>\n",
    "     </ul>\n",
    "</div>"
   ]
  },
  {
   "cell_type": "code",
   "execution_count": 2,
   "id": "fdc906f2-cfb0-4339-a09a-ed75e1e43818",
   "metadata": {},
   "outputs": [
    {
     "name": "stdout",
     "output_type": "stream",
     "text": [
      "[master 6c310f7] Fazer Exercise 61\n",
      " 3 files changed, 27 insertions(+), 27 deletions(-)\n",
      "Enumerating objects: 13, done.\n",
      "Counting objects: 100% (13/13), done.\n",
      "Delta compression using up to 24 threads\n",
      "Compressing objects: 100% (7/7), done.\n",
      "Writing objects: 100% (7/7), 834 bytes | 834.00 KiB/s, done.\n",
      "Total 7 (delta 4), reused 0 (delta 0), pack-reused 0\n",
      "remote: Resolving deltas: 100% (4/4), completed with 4 local objects.\u001b[K\n",
      "To https://github.com/felipesveiga/Calculus.git\n",
      "   526b679..6c310f7  master -> master\n"
     ]
    }
   ],
   "source": [
    "! git add .\n",
    "! git commit -am 'Fazer Exercise 61'\n",
    "! git push"
   ]
  },
  {
   "cell_type": "markdown",
   "id": "bacc3ce8-6338-4b6e-954e-933b0002bd3b",
   "metadata": {},
   "source": [
    "<p style='color:red'>  Iniciei o livro; Anotar Scalar Multiplication\n",
    "</p>"
   ]
  }
 ],
 "metadata": {
  "kernelspec": {
   "display_name": "Python 3 (ipykernel)",
   "language": "python",
   "name": "python3"
  },
  "language_info": {
   "codemirror_mode": {
    "name": "ipython",
    "version": 3
   },
   "file_extension": ".py",
   "mimetype": "text/x-python",
   "name": "python",
   "nbconvert_exporter": "python",
   "pygments_lexer": "ipython3",
   "version": "3.10.12"
  }
 },
 "nbformat": 4,
 "nbformat_minor": 5
}

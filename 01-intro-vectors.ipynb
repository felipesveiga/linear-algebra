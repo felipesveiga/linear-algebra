{
 "cells": [
  {
   "cell_type": "markdown",
   "id": "f1d83e0a-0f62-4def-9cc8-1c6a1a74c1d4",
   "metadata": {},
   "source": [
    "<h1 style='font-size:40px'> Introduction to Vectors </h1>\n",
    "<div> \n",
    "    <ul style='font-size:20px'> \n",
    "        <li> \n",
    "            Aprenderemos aqui a lidar com vetores e algumas operações elementares da Álgebra Linear.\n",
    "        </li>\n",
    "    </ul>\n",
    "</div>"
   ]
  },
  {
   "cell_type": "markdown",
   "id": "8889879b-3b3c-4dc6-a9de-1f4e1b316d6c",
   "metadata": {},
   "source": [
    "<h2 style='font-size:30px'> 1.1 Vectors and Linear Combinations</h2>"
   ]
  },
  {
   "cell_type": "markdown",
   "id": "bd83b667-cf35-4f18-a719-27d1530f849c",
   "metadata": {},
   "source": [
    "<h3 style='font-size:30px;font-style:italic'> Vector Addition</h3>\n",
    "<div> \n",
    "    <ul style='font-size:20px'>\n",
    "        <li> \n",
    "            Consiste na soma dos elementos de vetores de mesma dimensionalidade:\n",
    "            <center style='margin-top:20px'> \n",
    "                    $$v=\\begin{bmatrix}\n",
    "                        v_1 \\\\ \n",
    "                        v_2\n",
    "                        \\end{bmatrix};\\text{ }\n",
    "                    w=\\begin{bmatrix}\n",
    "                        w_1 \\\\ \n",
    "                        w_2\n",
    "                        \\end{bmatrix}\n",
    "                    $$\n",
    "            </center>\n",
    "            <center style='margin-top:20px'> \n",
    "                $$\n",
    "                    v+w=\n",
    "                    \\begin{bmatrix}\n",
    "                        v_1+w_1\\\\ \n",
    "                        v_2+w_2\n",
    "                        \\end{bmatrix}\n",
    "                $$\n",
    "            </center>\n",
    "        </li>\n",
    "     </ul>\n",
    "</div>"
   ]
  },
  {
   "cell_type": "markdown",
   "id": "c5a383df-8288-43d0-951e-7063696e0bb2",
   "metadata": {},
   "source": [
    " <center style='margin-top:20px'> \n",
    "        <figure>\n",
    "            <img src='img/01_sum.png'>\n",
    "            <figcaption> Observe que o vetor soma forma a diagonal do retângulo formado pelos vetores $v$ e $w$ e suas projeções.</figcaption>\n",
    "        </figure>\n",
    "    </center>"
   ]
  },
  {
   "cell_type": "markdown",
   "id": "727ded7f-387f-4b88-b37b-b65c1c352ffd",
   "metadata": {},
   "source": [
    "<h3 style='font-size:30px;font-style:italic'> Scalar Multiplication</h3>\n",
    "<div> \n",
    "    <ul style='font-size:20px'>\n",
    "        <li> \n",
    "            Consiste em multiplicar todos os componentes de um vetor por um valor escalar.\n",
    "            <center style='margin-top:20px'> \n",
    "                    $$2v=\\begin{bmatrix}\n",
    "                        2v_1 \\\\ \n",
    "                        2v_2\n",
    "                        \\end{bmatrix}\n",
    "                        = v+v\n",
    "                    $$\n",
    "            </center>\n",
    "        </li>\n",
    "     </ul>\n",
    "</div>"
   ]
  },
  {
   "cell_type": "markdown",
   "id": "0a5f0ed2-50e5-4915-9823-81bedcc44d7d",
   "metadata": {},
   "source": [
    "<h3 style='font-size:30px;font-style:italic'> Linear Combination</h3>\n",
    "<div> \n",
    "    <ul style='font-size:20px'>\n",
    "        <li> \n",
    "            A combinação linear consiste na soma das multiplicações escalares de dois vetores.\n",
    "            <center style='margin-top:20px'> \n",
    "                    $$cv+dw\n",
    "                    $$\n",
    "            </center>\n",
    "        </li>\n",
    "     </ul>\n",
    "</div>"
   ]
  },
  {
   "cell_type": "markdown",
   "id": "fe69ae93-47f4-4b37-a1f1-a529e695ee2f",
   "metadata": {},
   "source": [
    "<h3 style='font-size:30px;font-style:italic;color:red'> Aviso</h3>\n",
    "<div> \n",
    "    <ul style='font-size:20px'>\n",
    "        <li> \n",
    "            Para menor ocupação de espaço, o livro representará vetores-coluna numa única linha entre parênteses.\n",
    "            <center style='margin-top:20px'> \n",
    "                    $$\n",
    "                        \\begin{bmatrix}\n",
    "                        v_1 \\\\\n",
    "                        v_2\n",
    "                        \\end{bmatrix}=(v_1, v_2)\n",
    "                    $$\n",
    "            </center>\n",
    "        </li>\n",
    "     </ul>\n",
    "</div>"
   ]
  },
  {
   "cell_type": "markdown",
   "id": "a546e68d-68ff-4c82-960c-f6e83ede8adf",
   "metadata": {},
   "source": [
    "<h2 style='font-size:30px'> 1.2\n",
    "Lengths and Dot Products</h2>\n",
    "<div> \n",
    "    <ul style='font-size:20px'>\n",
    "        <li> \n",
    "            Aprenderemos nesta seção conceitos fundamentais da Álgebra Linear, como a similaridade cosseno e o dot product.\n",
    "        </li>\n",
    "     </ul>\n",
    "</div>"
   ]
  },
  {
   "cell_type": "markdown",
   "id": "3e256c1e-6a78-4815-a27b-4596d24fd971",
   "metadata": {},
   "source": [
    "<h3 style='font-size:30px;font-style:italic'> Dot Product</h3>\n",
    "<div> \n",
    "    <ul style='font-size:20px'>\n",
    "        <li> \n",
    "            O produto escalar consiste na soma dos produtos entre elementos de mesma posição de dois vetores.\n",
    "            <center style='margin-top:20px'> \n",
    "                    $v\\cdot w=\\sum_{i=1}^{N}{v_{i}w_{i}}$\n",
    "            </center>\n",
    "        </li>\n",
    "        <li style='margin-top:20px'>\n",
    "            Vale a pena lembrar que caso o produto escalar seja 0, o ângulo entre esses vetores será de 90 graus. \n",
    "        </li>\n",
    "     </ul>\n",
    "</div>"
   ]
  },
  {
   "cell_type": "markdown",
   "id": "9250a719-9a98-4b7b-a8b7-7a914d41074e",
   "metadata": {},
   "source": [
    "<h3 style='font-size:30px;font-style:italic'>  Length and Unit Vectors</h3>\n",
    "<div> \n",
    "    <ul style='font-size:20px'>\n",
    "        <li> \n",
    "            O comprimento de um vetor ||v|| é tido como a raiz quadrada do produto escalar dele com ele mesmo.\n",
    "        </li>\n",
    "        <li>\n",
    "            <i>Nota</i>: todo o vetor cujo comprimento seja 1 é considerado um vetor unitário\n",
    "        </li>\n",
    "     </ul>\n",
    "</div>"
   ]
  },
  {
   "cell_type": "markdown",
   "id": "4bdb4f31-83b8-4d67-a7c1-4d9e567cb997",
   "metadata": {
    "tags": []
   },
   "source": [
    "<h4 style='font-size:30px;font-style:italic;text-decoration:underline'> Schwarz Inequality</h4>\n",
    "<div> \n",
    "    <ul style='font-size:20px'> \n",
    "        <li> \n",
    "            A inequalidade de Schwarz diz que, dados vetores $v$ e $w$:\n",
    "            <center style='margin-top:20px'> \n",
    "                    $|v\\cdot{w}|\\leq{||v|| ||w||}$\n",
    "            </center>\n",
    "        </li>\n",
    "    </ul>\n",
    "</div>"
   ]
  },
  {
   "cell_type": "markdown",
   "id": "3e4ea96a-f520-4de2-9c24-a182718d36ba",
   "metadata": {
    "tags": []
   },
   "source": [
    "<h4 style='font-size:30px;font-style:italic;text-decoration:underline'> \n",
    "    <a href='https://www.youtube.com/watch?v=aZLZWJZ4cdQ'>\n",
    "        Triangle Inequality\n",
    "    </a>\n",
    "</h4>\n",
    "<div> \n",
    "    <ul style='font-size:20px'> \n",
    "        <li> \n",
    "            A Inequalidade Triangular é um Teorema muito importante da Álgebra Linear. Ela embasa diversas técnicas de procura de data points mais próximos e modelos de ML.\n",
    "        </li>\n",
    "        <li>\n",
    "            O Teorema se baseia na norma de um vetor soma.\n",
    "        </li>\n",
    "    </ul>\n",
    "</div>"
   ]
  },
  {
   "cell_type": "markdown",
   "id": "e1ec0ef4-9120-4af6-b631-2df65e6bab71",
   "metadata": {},
   "source": [
    "<center style='font-size:20px;margin-top:20px'> \n",
    "                    $||v+w||^{2}=<v+w,v+w>$\n",
    "</center>"
   ]
  },
  {
   "cell_type": "markdown",
   "id": "87797b36-24a3-4942-8f07-d6e612c8cb29",
   "metadata": {},
   "source": [
    "<center style='font-size:20px;margin-top:20px;margin-left:22%'> \n",
    "                    $=<v,v>+<v,w>+<w,v>+<w,w>$\n",
    "</center>"
   ]
  },
  {
   "cell_type": "markdown",
   "id": "7ccdc995-ddd1-4bef-8dc4-4efc368e5a0d",
   "metadata": {},
   "source": [
    "<center style='font-size:20px;margin-top:20px;margin-left:22%'> \n",
    "                    $=||v||^{2}+||w||^{2}+2<v,w>$\n",
    "</center>"
   ]
  },
  {
   "cell_type": "markdown",
   "id": "61c7123e-d617-457e-82c4-1ee32b89c8a6",
   "metadata": {},
   "source": [
    "<center style='font-size:20px;margin-top:20px;margin-left:22%'> \n",
    "                    $\\leq||v||^{2}+||w||^{2}+2|<v,w>|$\n",
    "</center>"
   ]
  },
  {
   "cell_type": "markdown",
   "id": "4859a425-96be-4dd7-9fdd-6ce005bd97bb",
   "metadata": {},
   "source": [
    "<center style='font-size:20px;margin-top:20px;margin-left:22%'> \n",
    "                    $\\leq||v||^{2}+||w||^{2}+2||v||\\cdot{||w||}$\n",
    "</center>"
   ]
  },
  {
   "cell_type": "markdown",
   "id": "d5c6875e-9ef7-4f09-b8f3-366433664d0e",
   "metadata": {},
   "source": [
    "<center style='font-size:20px;margin-top:20px;margin-left:22%'> \n",
    "                    $\\leq (||v||+||w||)^{2}$\n",
    "</center>"
   ]
  },
  {
   "cell_type": "markdown",
   "id": "de9f3d1d-33c9-48bc-b11d-291c16bbffd0",
   "metadata": {},
   "source": [
    "<center style='font-size:20px;margin-top:20px;margin-left:22%'> \n",
    "                    $||v+w|| \\leq ||v||+||w||$\n",
    "</center>"
   ]
  },
  {
   "cell_type": "markdown",
   "id": "3ac5e872-e154-4167-bca9-de256e75f7fc",
   "metadata": {},
   "source": [
    "<h2 style='font-size:30px'> 1.3\n",
    "Matrices</h2>\n",
    "<div> \n",
    "    <ul style='font-size:20px'>\n",
    "        <li> \n",
    "        </li>\n",
    "     </ul>\n",
    "</div>"
   ]
  },
  {
   "cell_type": "markdown",
   "id": "36ac7ddd-0eca-458b-ba3f-4be262d32100",
   "metadata": {},
   "source": [
    "<h3 style='font-size:30px;font-style:italic'>  Linear Equations</h3>\n",
    "<div> \n",
    "    <ul style='font-size:20px'>\n",
    "        <li> \n",
    "            Na matemática, costumamos querer saber o produto de uma conta, dada uma certa variável.\n",
    "        </li>\n",
    "        <li>\n",
    "            Por outro lado, podemos desejar também o input que devemos pôr para que a conta alcance um determinado valor. Nesse caso, podemos resolver o problema com um sistema de equações lineares.\n",
    "        </li>\n",
    "     </ul>\n",
    "</div>"
   ]
  },
  {
   "cell_type": "markdown",
   "id": "611a138a-9f11-46a8-97fa-d9671f2d2500",
   "metadata": {},
   "source": [
    "<h3 style='font-size:30px;font-style:italic'> The Inverse Matrix</h3>\n",
    "<div> \n",
    "    <ul style='font-size:20px'>\n",
    "        <li> \n",
    "            A Matriz Inversa nada mais é do que aquela que, quando multiplicada com uma outra, nos retorna uma matriz identidade.\n",
    "        </li>\n",
    "        <li>\n",
    "            Em equações lineares, podemos usar $A^{-1}$ para descobrirmos o vetor $x$ que nos faz alcançar $b$.\n",
    "        </li>\n",
    "     </ul>\n",
    "</div>"
   ]
  },
  {
   "cell_type": "markdown",
   "id": "e3197656-e4e9-49c9-b3d0-f2c21adb6121",
   "metadata": {},
   "source": [
    "<center style='font-size:20px;margin-top:20px'> \n",
    "                    $x=A^{-1}b$\n",
    "</center>"
   ]
  },
  {
   "cell_type": "markdown",
   "id": "21783836-a819-46ce-ad47-3d8eeccb285e",
   "metadata": {},
   "source": [
    "<h3 style='font-size:30px;font-style:italic'> Independence and Dependence</h3>\n",
    "<div> \n",
    "    <ul style='font-size:20px'>\n",
    "        <li> \n",
    "            Dizemos que temos vetores independentes quando nenhuma combinação exceto $0u+0v+0w=0$.\n",
    "        </li>\n",
    "        <li>\n",
    "            Já vetores dependentes têm outras combinações cujo resultado é $b=0$.\n",
    "        </li>\n",
    "     </ul>\n",
    "</div>"
   ]
  }
 ],
 "metadata": {
  "kernelspec": {
   "display_name": "Python 3 (ipykernel)",
   "language": "python",
   "name": "python3"
  },
  "language_info": {
   "codemirror_mode": {
    "name": "ipython",
    "version": 3
   },
   "file_extension": ".py",
   "mimetype": "text/x-python",
   "name": "python",
   "nbconvert_exporter": "python",
   "pygments_lexer": "ipython3",
   "version": "3.10.12"
  }
 },
 "nbformat": 4,
 "nbformat_minor": 5
}

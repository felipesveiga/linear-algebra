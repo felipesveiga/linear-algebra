{
 "cells": [
  {
   "cell_type": "markdown",
   "id": "f75ad745-5fa6-48a5-80cb-5a0bf2d98351",
   "metadata": {},
   "source": [
    "<h1 style='font-size:40px'> Vectors Spaces and Subspaces </h1>\n",
    "<div> \n",
    "    <ul style='font-size:20px'> \n",
    "        <li> \n",
    "            Nesse capítulo, entramos numa abordagem mais conceitual sobre a Álgebra Linear com o entendimento de espaços vetoriais.      \n",
    "        </li>\n",
    "    </ul>\n",
    "</div>"
   ]
  },
  {
   "cell_type": "markdown",
   "id": "966c7189-358d-42cd-99ca-f9e9b3bb5897",
   "metadata": {},
   "source": [
    "<h2 style='font-size:30px'> 3.1 Spaces of Vectors</h2>\n",
    "<div> \n",
    "    <ul style='font-size:20px'> \n",
    "        <li> \n",
    "            Um espaço vetorial consiste em uma coleção de vetores de $n$ dimensões cujos componentes pertencem a um determinado conjunto numérico.\n",
    "        </li>\n",
    "        <li>\n",
    "            Por exemplo, $R^{2}$ sinaliza todos os vetores bidimensionais com números reais (representados no plano $xy$). Já $R^{3}$ contempla todos os pontos de $xyz$.\n",
    "        </li>\n",
    "        <li>\n",
    "            Sejam $v,w\\in R^{n}$, todo vetor $v+w$ deve também pertencer a esse espaço, da mesma forma que $cv\\text{, }c\\in{\\mathbb{R}}$.\n",
    "        </li>\n",
    "    </ul>\n",
    "</div>"
   ]
  },
  {
   "cell_type": "markdown",
   "id": "a5abba28-0acc-4a53-bb36-f1b64064fc33",
   "metadata": {},
   "source": [
    "<h3 style='font-size:30px;font-style:italic'> Subspaces</h3>\n",
    "<div> \n",
    "    <ul style='font-size:20px'>\n",
    "        <li> \n",
    "            Entendemos como sub-espaços um conjunto de vetores específicos pertencentes a $R^{n}$.\n",
    "        </li>\n",
    "        <li>\n",
    "            Nesses sub-espaços, todas as operações $v+w$ e $cv$ devem resultar em vetores também pertecentes a eles. O espaço em questão também é considerado um sub-espaço de si.\n",
    "        </li>\n",
    "        <li>\n",
    "            Um exemplo de sub-espaço seria um plano no espaço $R^{3}$, em que $z=0$. Nessa situação, todas as somas de vetores e multiplicações estarão contidas no plano. No entanto, atente-se, isso não torna o sub-espaço $R^{2}$, ele continua $R^{3}$.\n",
    "        </li> \n",
    "    </ul>\n",
    "</div>"
   ]
  },
  {
   "cell_type": "markdown",
   "id": "e75b5a8b-3e5c-4d30-bd82-44693decea53",
   "metadata": {
    "tags": []
   },
   "source": [
    "<h4 style='font-size:30px;font-style:italic;text-decoration:underline'> Rule of Subspaces</h4>\n",
    "<div> \n",
    "    <ul style='font-size:20px'>\n",
    "        <li>\n",
    "            Podemos resumir as restrições necessárias para vetores de um sub-espaço numa única regra:\n",
    "        </li>\n",
    "     </ul>\n",
    "</div>"
   ]
  },
  {
   "cell_type": "markdown",
   "id": "c85a5d5f-f2cc-4e3b-b1b9-3e168334358b",
   "metadata": {},
   "source": [
    "<figure>\n",
    "        <center style='font-size:20px;margin-top:20px'>\n",
    "            Todas as combições lineares $cv+dw\\text{, }c,d\\in\\mathbb{R}$ devem existir em $R^{n}$\n",
    "        </center>\n",
    "    </figure>"
   ]
  },
  {
   "cell_type": "markdown",
   "id": "76428327-1196-48d7-beec-f64f68905de7",
   "metadata": {},
   "source": [
    "<h3 style='font-size:30px;font-style:italic'> The Column Space of $A$</h3>\n",
    "<div> \n",
    "    <ul style='font-size:20px'>\n",
    "        <li> \n",
    "            Ao lidarmos com sistemas lineares $Ax=b$, entendemos como espaço colunar $C(A)$ o conjunto de todos os vetores $b$ que podem ser produzidos. \n",
    "        </li> \n",
    "        <li>\n",
    "            O uso do termo \"espaço\" convém, pois as soluções $b$'s podem ser interpretadas como combinações das colunas de $A$ pelos componentes de $x$. Os vetores-base do espaço colunar seriam as próprias colunas de $A$.\n",
    "        </li>\n",
    "        <li>\n",
    "            Isso seria similar ao conceito de <i>imagem</i> de uma função.\n",
    "        </li>\n",
    "    </ul>\n",
    "</div>"
   ]
  },
  {
   "cell_type": "markdown",
   "id": "9d8cc9ed-d6f6-4c48-afbb-1c8e612a5ea2",
   "metadata": {},
   "source": [
    "<h2 style='font-size:30px'> 3.2 The Nullspace of A: Solving $Ax=0$ and $Rx=0$</h2>\n",
    "<div> \n",
    "    <ul style='font-size:20px'> \n",
    "        <li> \n",
    "            Essa seção é dedicada ao estudo dos espaços nulos. Entendemos como tal o conjunto de vetores que satisfazem $Ax=0$.\n",
    "        </li>\n",
    "        <li>\n",
    "            Enquanto que em matrizes invertíveis o único vetor desse espaço é o $0$, existem vetores não-nulos para matrizes não invertíveis.\n",
    "        </li>\n",
    "    </ul>\n",
    "</div>"
   ]
  },
  {
   "cell_type": "markdown",
   "id": "e383d2f3-404d-41b0-9966-d2bd808d5147",
   "metadata": {},
   "source": [
    "<h3 style='font-size:30px;font-style:italic'> Definição do Espaço Nulo</h3>\n",
    "<div> \n",
    "    <ul style='font-size:20px'>\n",
    "        <li>\n",
    "            Sejam $x,y \\in \\mathbb{R}^{n}$ e $Ax=Ay=0$, podemos observar que $A(x+y)=0+0$, da mesma forma que $A(cx)=c0$. \n",
    "        </li>\n",
    "        <li>\n",
    "            Por isso, podemos considerar o espaço nulo como um sub-espaço legítimo.\n",
    "        </li>\n",
    "     </ul>\n",
    "</div>"
   ]
  },
  {
   "cell_type": "markdown",
   "id": "0cdb532e-f6ad-48fc-acc6-eda5db2fd62f",
   "metadata": {},
   "source": [
    "<h3 style='font-size:30px;font-style:italic'> Encontrando o Espaço Nulo</h3>\n",
    "<div> \n",
    "    <ul style='font-size:20px'>\n",
    "        <li>\n",
    "            Caso $Ax=0$ exista, podemos definir o espaço nulo de uma maneira simples.\n",
    "        </li>\n",
    "        <li>\n",
    "            Informe um único vetor, ou uma solução especial. Nós entenderemos que o espaço nulo consistirá em todos os seus múltiplos.\n",
    "        </li>\n",
    "        <li>\n",
    "            É possível que o espaço tenha mais de um vetor especial.\n",
    "        </li>\n",
    "     </ul>\n",
    "</div>"
   ]
  },
  {
   "cell_type": "markdown",
   "id": "8f7135b6-b70a-4b44-9611-29058133f60c",
   "metadata": {},
   "source": [
    "<h3 style='font-size:30px;font-style:italic'> Pivot Columns and Free Columns</h3>\n",
    "<div> \n",
    "    <ul style='font-size:20px'>\n",
    "        <li>\n",
    "            Formalmente, definimos como as \"Pivot Columns\" de uma matriz as colunas que contenham os pivots.\n",
    "        </li>\n",
    "        <li>\n",
    "            Já as \"Free Columns\" de uma matriz são aquelas que não.\n",
    "        </li>\n",
    "     </ul>\n",
    "</div>"
   ]
  },
  {
   "cell_type": "markdown",
   "id": "a2cc76c6-cf50-43c4-be6e-8e816821d61a",
   "metadata": {},
   "source": [
    "<h3 style='font-size:30px;font-style:italic'> The Reduced Row Echelon Form R</h3>\n",
    "<div> \n",
    "    <ul style='font-size:20px'>\n",
    "        <li>\n",
    "            Uma maneira de facilitarmos o encontro das soluções especiais de $N(A)$ seria tornando as pivot columns $I$.\n",
    "        </li>\n",
    "        <li>\n",
    "            Esse estado da matriz é conhecido como Row Echelon Form ($R$), usado também na Eliminação Gauss-Jordan.\n",
    "        </li>\n",
    "     </ul>\n",
    "</div>"
   ]
  },
  {
   "cell_type": "markdown",
   "id": "eedbf010-5fba-4b99-a763-fe365955bcdd",
   "metadata": {},
   "source": [
    "<h4 style='font-size:30px;font-style:italic;text-decoration:underline'> Encontro Vetores Especiais</h4>\n",
    "<div> \n",
    "    <ul style='font-size:20px'> \n",
    "        <li> \n",
    "            Uma vez encontrada $R$, podemos definir os vetores especiais de $N(A)$. \n",
    "        </li>\n",
    "        <li>\n",
    "            Os primeiros números dos vetores seriam o oposto dos componentes das free columns; os demais seriam os valores das pivot columns.\n",
    "        </li>\n",
    "        <li>\n",
    "            Por exemplo, em uma matriz $R=\\begin{bmatrix}1&0&2&0\\\\0&1&0&2 \\end{bmatrix}$, os vetores de $N(A)$ seriam $\\begin{bmatrix} -2\\\\0\\\\1\\\\0\\end{bmatrix}$ e $\\begin{bmatrix} 0\\\\-2\\\\0\\\\1\\end{bmatrix}$\n",
    "        </li>\n",
    "        <li>\n",
    "            Dizemos que quando $N(A)=Z$, os vetores coluna de $A$ são <strong>independentes</strong>.\n",
    "        </li>\n",
    "    </ul>\n",
    "</div>"
   ]
  },
  {
   "cell_type": "code",
   "execution_count": 13,
   "id": "8050c98a-29ac-4c65-8f7e-0bf1cb4a4675",
   "metadata": {
    "editable": true,
    "slideshow": {
     "slide_type": ""
    },
    "tags": []
   },
   "outputs": [
    {
     "name": "stdout",
     "output_type": "stream",
     "text": [
      "[master 908db9a] Continuar de \"The Rank of a Matrix\"\n",
      " 1 file changed, 31 insertions(+), 7 deletions(-)\n",
      "Enumerating objects: 5, done.\n",
      "Counting objects: 100% (5/5), done.\n",
      "Delta compression using up to 24 threads\n",
      "Compressing objects: 100% (3/3), done.\n",
      "Writing objects: 100% (3/3), 807 bytes | 807.00 KiB/s, done.\n",
      "Total 3 (delta 2), reused 0 (delta 0), pack-reused 0\n",
      "remote: Resolving deltas: 100% (2/2), completed with 2 local objects.\u001b[K\n",
      "To https://github.com/felipesveiga/linear-algebra.git\n",
      "   2aae3d1..908db9a  master -> master\n"
     ]
    }
   ],
   "source": [
    "! git add .\n",
    "! git commit -am 'Ler \"Rank One\"' \n",
    "! git push"
   ]
  },
  {
   "cell_type": "markdown",
   "id": "4757429e-4999-4de9-bdc9-52cfe06c8903",
   "metadata": {},
   "source": [
    "<p style='color:red'> Vi \"The Rank of a Matrix\"; Ler \"Rank One\"; Talvez, seja necessário pesquisar mais sobre ranks de matrizes, antes de fazer anotações\n",
    "</p>"
   ]
  }
 ],
 "metadata": {
  "kernelspec": {
   "display_name": "Python 3 (ipykernel)",
   "language": "python",
   "name": "python3"
  },
  "language_info": {
   "codemirror_mode": {
    "name": "ipython",
    "version": 3
   },
   "file_extension": ".py",
   "mimetype": "text/x-python",
   "name": "python",
   "nbconvert_exporter": "python",
   "pygments_lexer": "ipython3",
   "version": "3.10.12"
  }
 },
 "nbformat": 4,
 "nbformat_minor": 5
}

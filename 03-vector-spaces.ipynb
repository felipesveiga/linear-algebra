{
 "cells": [
  {
   "cell_type": "markdown",
   "id": "f75ad745-5fa6-48a5-80cb-5a0bf2d98351",
   "metadata": {},
   "source": [
    "<h1 style='font-size:40px'> Vectors Spaces and Subspaces </h1>\n",
    "<div> \n",
    "    <ul style='font-size:20px'> \n",
    "        <li> \n",
    "            Nesse capítulo, entramos numa abordagem mais conceitual sobre a Álgebra Linear com o entendimento de espaços vetoriais.      \n",
    "        </li>\n",
    "    </ul>\n",
    "</div>"
   ]
  },
  {
   "cell_type": "markdown",
   "id": "966c7189-358d-42cd-99ca-f9e9b3bb5897",
   "metadata": {},
   "source": [
    "<h2 style='font-size:30px'> 3.1 Spaces of Vectors</h2>\n",
    "<div> \n",
    "    <ul style='font-size:20px'> \n",
    "        <li> \n",
    "            Um espaço vetorial consiste em uma coleção de vetores de $n$ dimensões cujos componentes pertencem a um determinado conjunto numérico.\n",
    "        </li>\n",
    "        <li>\n",
    "            Por exemplo, $R^{2}$ sinaliza todos os vetores bidimensionais com números reais (representados no plano $xy$). Já $R^{3}$ contempla todos os pontos de $xyz$.\n",
    "        </li>\n",
    "        <li>\n",
    "            Sejam $v,w\\in R^{n}$, todo vetor $v+w$ deve também pertencer a esse espaço, da mesma forma que $cv\\text{, }c\\in{\\mathbb{R}}$.\n",
    "        </li>\n",
    "    </ul>\n",
    "</div>"
   ]
  },
  {
   "cell_type": "markdown",
   "id": "a5abba28-0acc-4a53-bb36-f1b64064fc33",
   "metadata": {},
   "source": [
    "<h3 style='font-size:30px;font-style:italic'> Subspaces</h3>\n",
    "<div> \n",
    "    <ul style='font-size:20px'>\n",
    "        <li> \n",
    "            Entendemos como sub-espaços um conjunto de vetores específicos pertencentes a $R^{n}$.\n",
    "        </li>\n",
    "        <li>\n",
    "            Nesses sub-espaços, todas as operações $v+w$ e $cv$ devem resultar em vetores também pertecentes a eles. O espaço em questão também é considerado um sub-espaço de si.\n",
    "        </li>\n",
    "        <li>\n",
    "            Um exemplo de sub-espaço seria um plano no espaço $R^{3}$, em que $z=0$. Nessa situação, todas as somas de vetores e multiplicações estarão contidas no plano. No entanto, atente-se, isso não torna o sub-espaço $R^{2}$, ele continua $R^{3}$.\n",
    "        </li> \n",
    "    </ul>\n",
    "</div>"
   ]
  },
  {
   "cell_type": "markdown",
   "id": "e75b5a8b-3e5c-4d30-bd82-44693decea53",
   "metadata": {
    "tags": []
   },
   "source": [
    "<h4 style='font-size:30px;font-style:italic;text-decoration:underline'> Rule of Subspaces</h4>\n",
    "<div> \n",
    "    <ul style='font-size:20px'>\n",
    "        <li>\n",
    "            Podemos resumir as restrições necessárias para vetores de um sub-espaço numa única regra:\n",
    "        </li>\n",
    "     </ul>\n",
    "</div>"
   ]
  },
  {
   "cell_type": "markdown",
   "id": "c85a5d5f-f2cc-4e3b-b1b9-3e168334358b",
   "metadata": {},
   "source": [
    "<figure>\n",
    "        <center style='font-size:20px;margin-top:20px'>\n",
    "            Todas as combições lineares $cv+dw\\text{, }c,d\\in\\mathbb{R}$ devem existir em $R^{n}$\n",
    "        </center>\n",
    "    </figure>"
   ]
  },
  {
   "cell_type": "markdown",
   "id": "76428327-1196-48d7-beec-f64f68905de7",
   "metadata": {},
   "source": [
    "<h3 style='font-size:30px;font-style:italic'> The Column Space of $A$</h3>\n",
    "<div> \n",
    "    <ul style='font-size:20px'>\n",
    "        <li> \n",
    "            Ao lidarmos com sistemas lineares $Ax=b$, entendemos como espaço colunar $C(A)$ o conjunto de todos os vetores $b$ que podem ser produzidos. \n",
    "        </li> \n",
    "        <li>\n",
    "            O uso do termo \"espaço\" convém, pois as soluções $b$'s podem ser interpretadas como combinações das colunas de $A$ pelos componentes de $x$. Os vetores-base do espaço colunar seriam as próprias colunas de $A$.\n",
    "        </li>\n",
    "        <li>\n",
    "            Isso seria similar ao conceito de <i>imagem</i> de uma função.\n",
    "        </li>\n",
    "    </ul>\n",
    "</div>"
   ]
  },
  {
   "cell_type": "code",
   "execution_count": 4,
   "id": "8050c98a-29ac-4c65-8f7e-0bf1cb4a4675",
   "metadata": {
    "editable": true,
    "slideshow": {
     "slide_type": ""
    },
    "tags": []
   },
   "outputs": [
    {
     "name": "stdout",
     "output_type": "stream",
     "text": [
      "[master 006a24b] Escolher exs da seção 3.1\n",
      " 1 file changed, 11 insertions(+), 8 deletions(-)\n",
      "Enumerating objects: 5, done.\n",
      "Counting objects: 100% (5/5), done.\n",
      "Delta compression using up to 24 threads\n",
      "Compressing objects: 100% (3/3), done.\n",
      "Writing objects: 100% (3/3), 649 bytes | 649.00 KiB/s, done.\n",
      "Total 3 (delta 2), reused 0 (delta 0), pack-reused 0\n",
      "remote: Resolving deltas: 100% (2/2), completed with 2 local objects.\u001b[K\n",
      "To https://github.com/felipesveiga/linear-algebra.git\n",
      "   7148ff8..006a24b  master -> master\n"
     ]
    }
   ],
   "source": [
    "! git add .\n",
    "! git commit -am 'Fazer exs da seção 3.1' \n",
    "! git push"
   ]
  },
  {
   "cell_type": "markdown",
   "id": "4757429e-4999-4de9-bdc9-52cfe06c8903",
   "metadata": {},
   "source": [
    "<p style='color:red'> Terminei seção 3.1; Fazer exs da seção 3.1\n",
    "</p>"
   ]
  }
 ],
 "metadata": {
  "kernelspec": {
   "display_name": "Python 3 (ipykernel)",
   "language": "python",
   "name": "python3"
  },
  "language_info": {
   "codemirror_mode": {
    "name": "ipython",
    "version": 3
   },
   "file_extension": ".py",
   "mimetype": "text/x-python",
   "name": "python",
   "nbconvert_exporter": "python",
   "pygments_lexer": "ipython3",
   "version": "3.10.12"
  }
 },
 "nbformat": 4,
 "nbformat_minor": 5
}
